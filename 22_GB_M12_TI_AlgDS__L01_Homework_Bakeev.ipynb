{
 "cells": [
  {
   "cell_type": "markdown",
   "id": "aa96d7de",
   "metadata": {},
   "source": [
    "###  Алгоритмы анализа данных (06 окт 2022 - 01 ноя 2022)\n",
    "### Урок 1. Алгоритм линейной регрессии. Градиентный спуск."
   ]
  },
  {
   "cell_type": "markdown",
   "id": "9621c03b",
   "metadata": {},
   "source": [
    "# Домашнее задание\n",
    "Сдайте задание до: 14 окт., 00:00 MSK"
   ]
  },
  {
   "cell_type": "markdown",
   "id": "bd307414",
   "metadata": {},
   "source": [
    "Загружаем необходимые библиотеки и функции"
   ]
  },
  {
   "cell_type": "code",
   "execution_count": 2,
   "id": "97fcaa7b",
   "metadata": {},
   "outputs": [],
   "source": [
    "import numpy as np\n",
    "import matplotlib.pyplot as plt\n",
    "from mpl_toolkits.mplot3d.axes3d import Axes3D"
   ]
  },
  {
   "cell_type": "code",
   "execution_count": 90,
   "id": "2c9f5e52",
   "metadata": {},
   "outputs": [],
   "source": [
    "def calc_mae(y, y_pred):\n",
    "    err = np.mean(np.abs(y - y_pred))\n",
    "    return err\n",
    "\n",
    "def calc_mse(y, y_pred):\n",
    "    err = np.mean((y - y_pred)**2)\n",
    "    return err"
   ]
  },
  {
   "cell_type": "markdown",
   "id": "b6770a42",
   "metadata": {},
   "source": [
    "В качестве предмета исследования берем задачу из лекции"
   ]
  },
  {
   "cell_type": "code",
   "execution_count": 91,
   "id": "9d1b22b1",
   "metadata": {},
   "outputs": [],
   "source": [
    "# Задача: предсказание баллов ЕГЭ ученика в зависимости от кол-ва лет стажа его репетитора\n",
    "X = np.array([[ 1,  1],\n",
    "              [ 1,  1],\n",
    "              [ 1,  2],\n",
    "              [ 1,  5],\n",
    "              [ 1,  3],\n",
    "              [ 1,  0],\n",
    "              [ 1,  5],\n",
    "              [ 1, 10],\n",
    "              [ 1,  1],\n",
    "              [ 1,  2]])\n",
    "y = [45, 55, 50, 55, 60, 35, 75, 80, 50, 60]"
   ]
  },
  {
   "cell_type": "code",
   "execution_count": null,
   "id": "3c1c8afd",
   "metadata": {},
   "outputs": [],
   "source": []
  },
  {
   "cell_type": "markdown",
   "id": "15a75e0f",
   "metadata": {},
   "source": [
    "__1.__ Проведите небольшое исследование алгоритма градиентного спуска. Оцените влияние значений скорости обучения (eta) и количества итераций на ошибку алгоритма. Как связаны эти два гиперпараметра между собой? Подберите скорость обучения и количество итераций до совпадения ответов алгоритма с результатами МНК. Как можно ускорить процесс вычисления весов?"
   ]
  },
  {
   "cell_type": "markdown",
   "id": "e2ae33ee",
   "metadata": {},
   "source": [
    "__Решение 1__"
   ]
  },
  {
   "cell_type": "markdown",
   "id": "c3b6f73d",
   "metadata": {},
   "source": [
    "Вычислим значение W_final и MSE для следующих значений скорости обучения (eta) и количества итераций (n_iter):\n",
    "\n",
    "eta = 8e-3, 9e-3, 1e-2, 2e-2, 3e-2, 4e-2, 5e-2, 6e-2, 7e-2\n",
    "\n",
    "n_iter = 100, 200, 300, 400"
   ]
  },
  {
   "cell_type": "code",
   "execution_count": 92,
   "id": "66ecf585",
   "metadata": {},
   "outputs": [],
   "source": [
    "etas = [8e-3, 9e-3, 1e-2, 2e-2, 3e-2, 4e-2, 5e-2, 6e-2, 7e-2]\n",
    "n_iters = [100, 200, 300, 400]"
   ]
  },
  {
   "cell_type": "markdown",
   "id": "59c08e72",
   "metadata": {},
   "source": [
    "Подготовим функцию, которая будет возвращать Eta = {eta}, Iterations {n_iter}, W_final = {W}, MSE = {round(err, 3)}"
   ]
  },
  {
   "cell_type": "code",
   "execution_count": 93,
   "id": "415e017a",
   "metadata": {},
   "outputs": [],
   "source": [
    "def grad(eta, n_iter):\n",
    "    \n",
    "    temp_eta = eta\n",
    "\n",
    "    for i in range(n_iter):        \n",
    "        y_pred = np.dot(X, W)\n",
    "        err = calc_mse(y, y_pred)\n",
    "        for k in range(W.shape[0]):\n",
    "            W[k] -= eta * (1/n * 2 * X[:, k] @ (y_pred - y))\n",
    "        if i % 10 == 0: \n",
    "            temp_eta /= 1.1\n",
    "    \n",
    "    return f'Eta = {eta}, Iterations = {n_iter}: W_final = {W}, MSE = {round(err, 3)}'"
   ]
  },
  {
   "cell_type": "markdown",
   "id": "2fb372bf",
   "metadata": {},
   "source": [
    "Теперь организуем иттеративное исследование скорости сходимости алгоритма"
   ]
  },
  {
   "cell_type": "code",
   "execution_count": 94,
   "id": "2b7de132",
   "metadata": {},
   "outputs": [
    {
     "name": "stdout",
     "output_type": "stream",
     "text": [
      "Number of objects = 10, \n",
      "Initial weights = [1.  0.5] \n",
      "\n",
      "\n",
      "Eta = 0.008, Iterations = 100: W_final = [24.83058465  7.48124591], MSE = 239.604\n",
      "Eta = 0.008, Iterations = 200: W_final = [35.33465138  5.57649536], MSE = 89.197\n",
      "Eta = 0.008, Iterations = 300: W_final = [40.38518512  4.66065894], MSE = 54.425\n",
      "Eta = 0.008, Iterations = 400: W_final = [42.81356754  4.22030923], MSE = 46.386\n",
      "\n",
      "Eta = 0.009, Iterations = 100: W_final = [26.60723725  7.15907735], MSE = 207.053\n",
      "Eta = 0.009, Iterations = 200: W_final = [36.96812593  5.28028994], MSE = 75.34\n",
      "Eta = 0.009, Iterations = 300: W_final = [41.51235322  4.45626438], MSE = 50.004\n",
      "Eta = 0.009, Iterations = 400: W_final = [43.50542566  4.09485142], MSE = 45.13\n",
      "\n",
      "Eta = 0.01, Iterations = 100: W_final = [28.22929764  6.86494171], MSE = 179.895\n",
      "Eta = 0.01, Iterations = 200: W_final = [38.32845066  5.03361602], MSE = 65.722\n",
      "Eta = 0.01, Iterations = 300: W_final = [42.36857287  4.30100215], MSE = 47.45\n",
      "Eta = 0.01, Iterations = 400: W_final = [43.98480618  4.00792316], MSE = 44.526\n",
      "\n",
      "Eta = 0.02, Iterations = 100: W_final = [38.385257    5.02331507], MSE = 65.756\n",
      "Eta = 0.02, Iterations = 200: W_final = [44.00291167  4.00464001], MSE = 44.517\n",
      "Eta = 0.02, Iterations = 300: W_final = [44.89435763  3.84299003], MSE = 43.983\n",
      "Eta = 0.02, Iterations = 400: W_final = [45.03581808  3.81733836], MSE = 43.969\n",
      "\n",
      "Eta = 0.03, Iterations = 100: W_final = [42.43659003  4.28866829], MSE = 47.402\n",
      "Eta = 0.03, Iterations = 200: W_final = [44.89862886  3.8422155 ], MSE = 43.982\n",
      "Eta = 0.03, Iterations = 300: W_final = [45.05227355  3.81435441], MSE = 43.969\n",
      "Eta = 0.03, Iterations = 400: W_final = [45.06186181  3.81261573], MSE = 43.969\n",
      "\n",
      "Eta = 0.04, Iterations = 100: W_final = [44.03886746  3.99811998], MSE = 44.5\n",
      "Eta = 0.04, Iterations = 200: W_final = [45.03759819  3.81701556], MSE = 43.969\n",
      "Eta = 0.04, Iterations = 300: W_final = [45.06189422  3.81260985], MSE = 43.969\n",
      "Eta = 0.04, Iterations = 400: W_final = [45.06248526  3.81250267], MSE = 43.969\n",
      "\n",
      "Eta = 0.05, Iterations = 100: W_final = [44.66702658  3.88421301], MSE = 44.05\n",
      "Eta = 0.05, Iterations = 200: W_final = [45.05878313  3.813174  ], MSE = 43.969\n",
      "Eta = 0.05, Iterations = 300: W_final = [45.06246507  3.81250633], MSE = 43.969\n",
      "Eta = 0.05, Iterations = 400: W_final = [45.06249967  3.81250006], MSE = 43.969\n",
      "\n",
      "Eta = 0.06, Iterations = 100: W_final = [ -44097.42093644 -243426.46222745], MSE = 878989763657.91\n",
      "Eta = 0.06, Iterations = 200: W_final = [-9.81983223e+08 -5.41531162e+09], MSE = 4.349921774459555e+20\n",
      "Eta = 0.06, Iterations = 300: W_final = [-2.18450429e+13 -1.20468157e+14], MSE = 2.1526780205176773e+29\n",
      "Eta = 0.06, Iterations = 400: W_final = [-4.85961336e+17 -2.67991539e+18], MSE = 1.0653117228977372e+38\n",
      "\n",
      "Eta = 0.07, Iterations = 100: W_final = [-4.15462470e+16 -2.29113756e+17], MSE = 4.4860420365865545e+35\n",
      "Eta = 0.07, Iterations = 200: W_final = [-8.69875582e+32 -4.79707496e+33], MSE = 1.966590877544501e+68\n",
      "Eta = 0.07, Iterations = 300: W_final = [-1.82130416e+49 -1.00438876e+50], MSE = 8.621140078714086e+100\n",
      "Eta = 0.07, Iterations = 400: W_final = [-3.81336013e+65 -2.10294147e+66], MSE = 3.7793349448265407e+133\n"
     ]
    }
   ],
   "source": [
    "W = np.array([1, 0.5])\n",
    "print(f'Number of objects = {n}, \\nInitial weights = {W} \\n')\n",
    "\n",
    "for eta in etas:\n",
    "    print()\n",
    "    for n_iter in n_iters:\n",
    "        W = np.array([1, 0.5])\n",
    "        print(grad(eta, n_iter))\n"
   ]
  },
  {
   "cell_type": "markdown",
   "id": "e3bd3900",
   "metadata": {},
   "source": [
    "Результаты показывают, что с ростом начального значения eta ошибка алгоритма сокращается быстрее.\n",
    "\n",
    "Но это только до определенного уровня, а вот когда eta превышает значение 0.06 алгоритм идет вразнос\n",
    "\n",
    "__Оптимальное соотношение для получения достаточно близкого к МНК результата будут значения: eta=0.05 , n_iter=300__\n",
    "\n",
    "__Процесс вычисления весов можно ускорить повышая начальное значение eta (до определенного уровня) и меняя начальное значение весов.__  "
   ]
  },
  {
   "cell_type": "code",
   "execution_count": null,
   "id": "bb2dead7",
   "metadata": {},
   "outputs": [],
   "source": []
  },
  {
   "cell_type": "markdown",
   "id": "b287009a",
   "metadata": {},
   "source": [
    "__2*.__ В этом коде мы избавляемся от итераций по весам, но тут есть ошибка, исправьте ее"
   ]
  },
  {
   "cell_type": "code",
   "execution_count": null,
   "id": "7efcce43",
   "metadata": {},
   "outputs": [],
   "source": [
    "w = np.array([1, 0.5])\n",
    "for i in range(1001):\n",
    "    y_pred = np.dot(w, X.T)\n",
    "    err = calc_mse(y, y_pred)\n",
    "    w -= (eta * (1/n * 2 * np.sum(X.T * (y_pred - y)))) # ошибка!\n",
    "    if i % 100 == 0:\n",
    "        print(i, w, err)"
   ]
  },
  {
   "cell_type": "markdown",
   "id": "f988b97d",
   "metadata": {},
   "source": [
    "__Решение 2__"
   ]
  },
  {
   "cell_type": "markdown",
   "id": "c6724f47",
   "metadata": {},
   "source": [
    "Воспользуемся формулами из лекции:\n",
    "\n",
    "$$\\nabla_{w}Q(w,X) = \\frac{2}{l}X^{T}(Xw-y)$$\n",
    "\n",
    "$$w^{k} = w^{k-1} - \\eta_{k}\\nabla Q(w^{k-1}, X) = w^{k-1} - \\eta_{k}\\frac{2}{l}X^{T}(Xw-y)$$\n",
    "\n",
    "из этих формул видно, что в предложенном коде есть 2 ошибки:\n",
    "\n",
    "__1 ошибка__ в 3 строке: $y_pred = np.dot(w, X.T)$ \n",
    "\n",
    "выражние $np.dot(w, X.T)$ надо поменять на $np.dot(X, w)$\n",
    "\n",
    "__2  ошибка__ в 5 строке: $W -= (eta * (1/n * 2 * np.sum(X.T * (y_pred - y))))$ \n",
    "\n",
    "выражние $np.sum(X.T * (y_pred - y))$ надо поменять на $X.T @ (y_pred - y)$"
   ]
  },
  {
   "cell_type": "code",
   "execution_count": 95,
   "id": "4c293317",
   "metadata": {},
   "outputs": [
    {
     "name": "stdout",
     "output_type": "stream",
     "text": [
      "Number of objects = 10        \n",
      "Learning rate = 0.05        \n",
      "Initial weights = [1.  0.5] \n",
      "\n",
      "Iteration #0: W_new = [ 6.4  19.35], MSE = 3047.75\n",
      "Iteration #30: W_new = [35.16120834  5.60976141], MSE = 94.66355\n",
      "Iteration #60: W_new = [42.62118483  4.25519525], MSE = 47.05051\n",
      "Iteration #90: W_new = [44.46057568  3.9216497 ], MSE = 44.15609\n",
      "Iteration #120: W_new = [44.91409111  3.83941166], MSE = 43.98014\n",
      "Iteration #150: W_new = [45.02590869  3.81913527], MSE = 43.96944\n",
      "Iteration #180: W_new = [45.05347814  3.81413597], MSE = 43.96879\n",
      "Iteration #210: W_new = [45.06027559  3.81290336], MSE = 43.96875\n",
      "Iteration #240: W_new = [45.06195156  3.81259945], MSE = 43.96875\n",
      "Iteration #270: W_new = [45.06236478  3.81252452], MSE = 43.96875\n"
     ]
    }
   ],
   "source": [
    "n = X.shape[0]\n",
    "\n",
    "eta = 5e-2 \n",
    "n_iter = 300\n",
    "\n",
    "w = np.array([1, 0.5])\n",
    "print(f'Number of objects = {n} \\\n",
    "       \\nLearning rate = {eta} \\\n",
    "       \\nInitial weights = {w} \\n')\n",
    "\n",
    "for i in range(n_iter):\n",
    "    # ИЗМЕНЕНИЯ выражние np.dot(w, X.T) надо поменять на np.dot(X, w)\n",
    "    y_pred = np.dot(X, w)\n",
    "    # конец ИЗМЕНЕНИЙ\n",
    "    err = calc_mse(y, y_pred)\n",
    "\n",
    "    # ИЗМЕНЕНИЯ в выражении w -= (eta * (1/n * 2 * np.sum(X.T * (y_pred - y))))\n",
    "    # выражние np.sum(X.T * (y_pred - y)) надо поменять на X.T @ (y_pred - y)\n",
    "    w -= eta * (1/n * 2 * X.T @ (y_pred - y))\n",
    "    # конец ИЗМЕНЕНИЙ\n",
    "    \n",
    "    if i % 30 == 0:       \n",
    "        print(f'Iteration #{i}: W_new = {w}, MSE = {round(err,5)}')"
   ]
  },
  {
   "cell_type": "code",
   "execution_count": null,
   "id": "cd7219d0",
   "metadata": {},
   "outputs": [],
   "source": []
  },
  {
   "cell_type": "markdown",
   "id": "cc86f26f",
   "metadata": {},
   "source": [
    "__3*.__ Вместо того, чтобы задавать количество итераций, задайте условие остановки алгоритма - когда ошибка за итерацию начинает изменяться ниже определенного порога. Сколько нужно сделать итераций, если установить допустимое отклонение mse в размере diff=1e-6, а значение eta=1e-2?"
   ]
  },
  {
   "cell_type": "markdown",
   "id": "44e6471e",
   "metadata": {},
   "source": [
    "__Решение 3__"
   ]
  },
  {
   "cell_type": "markdown",
   "id": "06fa3e09",
   "metadata": {},
   "source": [
    "Введем другие условия останова алгоритма - когда веса перестают изменяться меньше порога min_weight_dist или когда количество итераций превышает n_iter (последнее условие, выходит за рамки задания, но его таки разумно сделать, чтобы подстраховаться от ухода цикла в небеса)\n",
    "\n",
    "Для этого поменяем цикл for на цикл while и организуем расчет разницы weight_dist и количества иттераций iter_num"
   ]
  },
  {
   "cell_type": "code",
   "execution_count": 98,
   "id": "343cd7c4",
   "metadata": {},
   "outputs": [
    {
     "name": "stdout",
     "output_type": "stream",
     "text": [
      "Number of objects = 10        \n",
      "Learning rate = 0.01        \n",
      "Initial weights = [1.  0.5] \n",
      "\n",
      "Iter #0: W_new = [2.08 4.27], MSE = 3047.75, weight_dist = 3.921645062980585\n",
      "Iter #100: W_new = [28.38281518  6.83710367], MSE = 177.43, weight_dist = 0.15602112986598138\n",
      "Iter #200: W_new = [38.38986469  5.02247953], MSE = 65.33, weight_dist = 0.06241557391934305\n",
      "Iter #300: W_new = [42.39314129  4.29654705], MSE = 47.39, weight_dist = 0.024969078682016872\n",
      "Iter #400: W_new = [43.99463466  4.00614091], MSE = 44.52, weight_dist = 0.00998877124856895\n",
      "Iter #500: W_new = [44.63530512  3.8899652 ], MSE = 44.06, weight_dist = 0.0039959644617626805\n",
      "Iter #600: W_new = [44.89160255  3.84348962], MSE = 43.98, weight_dist = 0.0015985681904560113\n",
      "Iter #700: W_new = [44.99413322  3.82489726], MSE = 43.97, weight_dist = 0.0006395002468072415\n",
      "Iter #800: W_new = [45.03515017  3.81745947], MSE = 43.97, weight_dist = 0.0002558292903013498\n",
      "Iter #900: W_new = [45.05155882  3.81448401], MSE = 43.97, weight_dist = 0.00010234339408359224\n",
      "Iter #1000: W_new = [45.05812303  3.8132937 ], MSE = 43.97, weight_dist = 4.0942029350512616e-05\n",
      "Iter #1100: W_new = [45.06074901  3.81281751], MSE = 43.97, weight_dist = 1.6378680643773393e-05\n",
      "Iter #1200: W_new = [45.06179952  3.81262702], MSE = 43.97, weight_dist = 6.552219900881267e-06\n",
      "Iter #1300: W_new = [45.06221978  3.81255081], MSE = 43.97, weight_dist = 2.621187056465945e-06\n",
      "Iter #1400: W_new = [45.0623879   3.81252033], MSE = 43.97, weight_dist = 1.048594475264218e-06\n"
     ]
    }
   ],
   "source": [
    "n = X.shape[0]\n",
    "\n",
    "eta = 1e-2 \n",
    "n_iter = 3000\n",
    "\n",
    "# ИЗМЕНЕНИЯ добавим счетчик итераций\n",
    "iter_num = 0\n",
    "\n",
    "# ИЗМЕНЕНИЯ добавим критерий сходимости (разница весов, при которой алгоритм останавливается)\n",
    "min_weight_dist = 1e-6\n",
    "\n",
    "# ИЗМЕНЕНИЯ зададим начальную разницу весов числом превышающим min_weight_dist\n",
    "weight_dist = 1\n",
    "# конец ИЗМЕНЕНИЙ\n",
    "\n",
    "W = np.array([1, 0.5])\n",
    "print(f'Number of objects = {n} \\\n",
    "       \\nLearning rate = {eta} \\\n",
    "       \\nInitial weights = {W} \\n')\n",
    "\n",
    "# ИЗМЕНЕНИЯ меняем конструкцию цикла\n",
    "#for i in range(n_iter):\n",
    "while weight_dist > min_weight_dist and iter_num < n_iter:\n",
    "# конец ИЗМЕНЕНИЙ\n",
    "    \n",
    "    y_pred = np.dot(X, W)\n",
    "    err = calc_mse(y, y_pred)\n",
    "    \n",
    "    # ИЗМЕНЕНИЯ организуем расчет разницы weight_dist\n",
    "    new_W = W - eta * (1/n * 2 * np.dot(X.T, y_pred - y))\n",
    "    weight_dist = np.linalg.norm(new_W - W, ord=2)\n",
    "    # конец ИЗМЕНЕНИЙ\n",
    "\n",
    "    if iter_num % 100 == 0:\n",
    "        #eta /= 1.1\n",
    "        print(f'Iter #{iter_num}: W_new = {new_W}, MSE = {round(err,2)}, weight_dist = {weight_dist}')\n",
    "     \n",
    "    # ИЗМЕНЕНИЯ\n",
    "    iter_num += 1\n",
    "    W = new_W\n",
    "    # конец ИЗМЕНЕНИЙ"
   ]
  },
  {
   "cell_type": "markdown",
   "id": "bdef50b8",
   "metadata": {},
   "source": [
    "__Если установить допустимое отклонение mse в размере diff=1e-6, а значение eta=1e-2, то для получения ответа нужно сделать  1400 итераций__  \n",
    "\n",
    "Для сравнения: Если установить допустимое отклонение mse в размере diff=1e-6, а значение __eta=5e-2__ для получения ответа нужно сделать всего __300__ итераций"
   ]
  },
  {
   "cell_type": "code",
   "execution_count": null,
   "id": "5d66c792",
   "metadata": {},
   "outputs": [],
   "source": []
  },
  {
   "cell_type": "code",
   "execution_count": null,
   "id": "da9cb462",
   "metadata": {},
   "outputs": [],
   "source": []
  }
 ],
 "metadata": {
  "kernelspec": {
   "display_name": "Python 3 (ipykernel)",
   "language": "python",
   "name": "python3"
  },
  "language_info": {
   "codemirror_mode": {
    "name": "ipython",
    "version": 3
   },
   "file_extension": ".py",
   "mimetype": "text/x-python",
   "name": "python",
   "nbconvert_exporter": "python",
   "pygments_lexer": "ipython3",
   "version": "3.9.7"
  }
 },
 "nbformat": 4,
 "nbformat_minor": 5
}
