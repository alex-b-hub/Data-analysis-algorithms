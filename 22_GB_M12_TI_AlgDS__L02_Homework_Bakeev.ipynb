{
 "cells": [
  {
   "cell_type": "markdown",
   "id": "e7907ec3",
   "metadata": {},
   "source": [
    "### Алгоритмы анализа данных (06 окт 2022 - 08 ноя 2022)\n",
    "### Урок 2. Урок 2. Масштабирование признаков. L1- и L2-регуляризация. Стохастический градиентный спуск"
   ]
  },
  {
   "cell_type": "markdown",
   "id": "d88f0891",
   "metadata": {},
   "source": [
    "# Домашнее задание студента Бакеева А.П.\n",
    "Сдайте задание до: 18 окт., 00:00 MSK"
   ]
  },
  {
   "cell_type": "markdown",
   "id": "59803243",
   "metadata": {},
   "source": [
    "__1.__ Сгенерировать датасет при помощи sklearn.datasets.make_regression и обучить линейную модель при помощи градиентного спуска и стохастического градиентного спуска. Построить графики среднеквадратичной ошибки (MSE) от числа итераций для обоих методов на одном рисунке, сделать выводы о разнице скорости сходимости каждого из методов.\n",
    "\n",
    "__2.__ Добавить в алгоритм градиентного спуска L1 регуляризацию. Сравнить влияние коэффициентов регуляризации L1 и L2 на величину весов для примера из урока (лучше графически)."
   ]
  },
  {
   "cell_type": "markdown",
   "id": "0b46d4b9",
   "metadata": {},
   "source": [
    "Загружаем необходимые библиотеки и функции"
   ]
  },
  {
   "cell_type": "code",
   "execution_count": 1,
   "id": "ebe3cf33",
   "metadata": {},
   "outputs": [],
   "source": [
    "import numpy as np\n",
    "from sklearn import datasets\n",
    "import matplotlib.pyplot as plt\n",
    "#from mpl_toolkits.mplot3d.axes3d import Axes3D\n",
    "\n",
    "%matplotlib inline\n",
    "import warnings\n",
    "warnings.filterwarnings('ignore')"
   ]
  },
  {
   "cell_type": "code",
   "execution_count": 2,
   "id": "3f59aebc",
   "metadata": {},
   "outputs": [],
   "source": [
    "# функция, определяющяя среднеквадратичную ошибку\n",
    "def calc_mse(y, y_pred):\n",
    "    err = np.mean((y - y_pred)**2)\n",
    "    return err"
   ]
  },
  {
   "cell_type": "markdown",
   "id": "d1be5dcb",
   "metadata": {},
   "source": [
    "__Решение 1__"
   ]
  },
  {
   "cell_type": "code",
   "execution_count": 3,
   "id": "4e9e3d1d",
   "metadata": {},
   "outputs": [
    {
     "data": {
      "text/plain": [
       "array([[ 1.06464237, -0.31860641, -0.79152115, ...,  2.16361464,\n",
       "        -1.58301431, -0.7269067 ],\n",
       "       [-1.16648923, -1.23287454,  1.7653891 , ...,  0.32654607,\n",
       "        -2.00043721, -0.79906519],\n",
       "       [-1.55599762, -0.77934403,  1.24193959, ..., -1.60004909,\n",
       "         0.13009714,  0.32640551],\n",
       "       ...,\n",
       "       [-1.29287598, -0.55045209, -3.19920646, ...,  0.35482484,\n",
       "         0.06904269, -0.5739496 ],\n",
       "       [-0.58883257, -0.01533388,  1.62123071, ..., -0.77088675,\n",
       "        -0.24973172,  1.62172819],\n",
       "       [ 0.14333684,  1.21910702, -0.67390985, ...,  0.21877646,\n",
       "         0.33925785, -1.03130901]])"
      ]
     },
     "metadata": {},
     "output_type": "display_data"
    },
    {
     "data": {
      "text/plain": [
       "array([89.90397689, 14.05105681, 84.89287943, 84.32492947,  1.83700566,\n",
       "       60.8697176 ,  0.        ,  0.        , 40.42989803,  0.        ,\n",
       "       29.25410333,  0.        ,  0.        , 45.25234961,  6.34122418,\n",
       "        0.        ,  0.        , 64.53152069, 95.98339009, 69.053052  ,\n",
       "        0.        , 89.81735435, 92.64132775, 44.70591003, 41.30677972,\n",
       "       22.77369565, 68.60152541, 50.63621443, 78.52770633,  0.        ,\n",
       "       92.59645841, 82.5367954 ,  9.89624146, 52.15291748,  0.        ])"
      ]
     },
     "metadata": {},
     "output_type": "display_data"
    },
    {
     "data": {
      "text/plain": [
       "array([-534.00226703, -391.12428732, -197.68941718, ..., -306.0133861 ,\n",
       "        155.94469551,  169.69912818])"
      ]
     },
     "metadata": {},
     "output_type": "display_data"
    }
   ],
   "source": [
    "# в теории sgd должен работать быстрее, когда у нас большой массив признаков\n",
    "# поэтому сгенерируем тяжелый набор данных: n_samples=700000, n_features=35, n_informative=25\n",
    "\n",
    "X, Y, coef = datasets.make_regression(n_samples=700000, n_features=35, n_informative=25, n_targets=1, \n",
    "                                      noise=5, coef=True, random_state=21)\n",
    "\n",
    "# X[:, 0] *= 10 не будем менять масштаб данных, чтобы не заниматься нормализацией\n",
    "# X[:, 1] *= 25\n",
    "\n",
    "display(X, coef, Y)"
   ]
  },
  {
   "cell_type": "markdown",
   "id": "43bd72d0",
   "metadata": {},
   "source": [
    "Найдем решение с помощью стохастического градиентного спуска"
   ]
  },
  {
   "cell_type": "code",
   "execution_count": 4,
   "id": "8851179b",
   "metadata": {},
   "outputs": [
    {
     "name": "stdout",
     "output_type": "stream",
     "text": [
      "Iteration #0: W_new = [ -7.07946826  12.94245687   9.31941276   0.7574106   21.08787628\n",
      "  -8.32217112 -13.67422513   1.72799251  12.49287512   6.57547206\n",
      "   1.02705221  -3.13156775  -4.54629037  10.74474961  -9.6960598\n",
      "  11.94504807  -4.2500144    3.65772417   3.52696291   3.40774735\n",
      "  13.31066308  10.98398984  -7.21635899   3.68651438   3.47946572\n",
      "  -6.74833025   4.88536006   1.13376604 -14.01598163  -5.64315876\n",
      "  -0.45033223   5.0343271   16.54697366  -2.65058367  -7.31703094], MSE = 101440.62, weight_dist = 51.787573806336404\n",
      "Iteration #100: W_new = [ 60.48559232  28.97478621  83.85890552  83.59352176  -7.65420494\n",
      "  63.41675794  -4.12651931   2.59887486  33.80822145  -1.17816794\n",
      "  -2.98283904 -22.98247431  10.42063914  -1.69968078   0.88472644\n",
      "  24.67037669 -22.09943248  78.61021426  91.54758193  83.93762983\n",
      " -12.729114    65.97552261  97.98375051  45.29679566  15.11400327\n",
      "   3.349795    22.28371418  41.80108614  86.93282501  -2.20245819\n",
      "  96.99799515  76.56571836   3.12720091  42.42145579 -18.98142192], MSE = 11426.03, weight_dist = 8.622160169123264\n",
      "Iteration #200: W_new = [93.2094932  23.01646874 84.84815762 81.63914973  0.83792639 62.17591685\n",
      " -1.75929849 -2.60058943 37.28178057  4.00911932 28.44446094  0.95354019\n",
      " -4.14231765 41.45524988  5.80390177 -4.18506603 -0.61336657 56.54921151\n",
      " 97.22191664 64.38569182 -7.16126948 89.55505817 88.9513296  54.26751588\n",
      " 39.219864   34.3872897  65.71952242 52.74571057 81.80295735  4.79835719\n",
      " 88.96477663 78.85126766 11.18145365 54.23747458 -1.56894117], MSE = 850.62, weight_dist = 14.394032070528118\n",
      "Iteration #300: W_new = [89.71585927 14.21316533 86.37151104 83.56231239  0.87183178 61.68269534\n",
      " -0.72106139  0.47458499 39.00904725  2.14729969 28.19670864 -1.40424082\n",
      " -1.05158772 43.53753836  6.64813651  0.51886571 -2.94877397 63.98832663\n",
      " 97.37811801 69.10973132 -2.18549255 91.85606443 93.05890578 43.13424139\n",
      " 41.88413721 22.44928282 69.39357022 49.81980276 79.93000097  0.34489162\n",
      " 91.61157719 83.69025153 10.74016503 51.81977184 -0.85313981], MSE = 74.54, weight_dist = 0.07382312954575418\n",
      "Iteration #400: W_new = [ 8.89837574e+01  1.37515204e+01  8.43710360e+01  8.27160578e+01\n",
      "  2.73069937e+00  5.93838969e+01  9.33202406e-01 -1.63434537e-01\n",
      "  3.90944289e+01  2.52723786e-02  2.97983761e+01 -5.89598692e-01\n",
      " -5.98898101e-01  4.55396596e+01  6.46709057e+00 -3.24290513e-01\n",
      " -2.38746769e-01  6.41748737e+01  9.61357068e+01  6.86940735e+01\n",
      "  9.27096446e-01  9.05776920e+01  9.24137992e+01  4.34596101e+01\n",
      "  4.02640458e+01  2.46853830e+01  6.81342384e+01  5.04101541e+01\n",
      "  7.68640226e+01 -7.95768762e-01  9.39372088e+01  8.20356375e+01\n",
      "  8.28729236e+00  5.04985759e+01  3.28708984e-01], MSE = 57.43, weight_dist = 1.177674673255432\n",
      "Iteration #500: W_new = [ 8.88423966e+01  1.38057092e+01  8.47579476e+01  8.46168406e+01\n",
      "  2.40687424e+00  6.03913304e+01 -6.52940418e-01 -6.75064471e-01\n",
      "  4.01150815e+01  3.74962656e-01  2.94965081e+01  1.87747961e+00\n",
      " -5.80495631e-01  4.49711785e+01  7.79868584e+00 -1.09867955e+00\n",
      " -1.58882579e-01  6.44819819e+01  9.58363300e+01  6.97788280e+01\n",
      " -1.81376433e-01  9.02116278e+01  9.19983411e+01  4.52262165e+01\n",
      "  4.13775999e+01  2.31307645e+01  6.86129202e+01  5.05975091e+01\n",
      "  7.84397511e+01 -7.51880464e-02  9.28815044e+01  8.09570153e+01\n",
      "  9.62112683e+00  5.26932108e+01  1.37659490e+00], MSE = 39.74, weight_dist = 1.8317333429612275\n",
      "Iteration #600: W_new = [ 8.93562210e+01  1.28396372e+01  8.35363197e+01  8.45082895e+01\n",
      "  2.81789103e+00  6.12966681e+01  7.00603427e-01  3.10909903e-01\n",
      "  3.99941437e+01 -1.86460590e+00  2.85971324e+01  2.19417611e-01\n",
      " -1.44815897e-01  4.53892240e+01  6.78379529e+00  3.01687836e-01\n",
      " -4.36405192e-01  6.45527778e+01  9.56230056e+01  6.89645311e+01\n",
      " -6.10596605e-01  8.98400636e+01  9.30954939e+01  4.56726365e+01\n",
      "  3.99767369e+01  2.33745730e+01  6.86028958e+01  5.09734899e+01\n",
      "  7.87822920e+01  1.18663123e-01  9.28056275e+01  8.32928651e+01\n",
      "  8.78400207e+00  5.27940330e+01  8.78525179e-02], MSE = 41.19, weight_dist = 0.009366737296919411\n",
      "Iteration #700: W_new = [ 9.12377227e+01  1.38656418e+01  8.54638735e+01  8.43863429e+01\n",
      "  1.78914629e+00  6.08795826e+01 -2.11264636e-01  9.30060380e-01\n",
      "  4.10690039e+01 -9.22961065e-01  2.85764818e+01  1.26722056e-02\n",
      " -2.57472681e-01  4.53500438e+01  6.33382627e+00 -1.04110158e+00\n",
      "  7.47251505e-02  6.50754688e+01  9.58293684e+01  6.93454543e+01\n",
      "  3.95039431e-01  9.04322267e+01  9.33872789e+01  4.55465432e+01\n",
      "  4.21333839e+01  2.18037491e+01  6.87142952e+01  5.00137851e+01\n",
      "  7.95200105e+01  6.69786993e-03  9.22325410e+01  8.25762283e+01\n",
      "  9.32681061e+00  5.18296072e+01  6.70503414e-01], MSE = 36.98, weight_dist = 0.22286049546007453\n",
      "Iteration #800: W_new = [91.93526597 14.54907586 84.18516662 83.56978861  1.95339912 61.78946128\n",
      "  0.3448145  -0.11226068 40.90181062 -0.37827221 28.81382188  0.15131386\n",
      " -1.5433216  45.82944247  6.51238377 -0.22744287 -0.15012383 63.78175704\n",
      " 95.44486805 68.43159869  0.21151445 88.44345584 94.26693339 45.25575543\n",
      " 40.80985376 22.51747717 68.27285144 51.58131042 78.80512112 -1.05371492\n",
      " 93.08080162 83.01967953  9.90281482 50.03199451  0.17080353], MSE = 48.43, weight_dist = 0.9022995514777273\n",
      "Iter 900: error = 35.38344645667732, weights: [ 8.98052903e+01  1.43174366e+01  8.46640367e+01  8.39163379e+01\n",
      "  1.33726994e+00  6.13870498e+01  1.20366755e-01  2.48726886e-01\n",
      "  4.11736158e+01  7.67986023e-02  2.84518413e+01 -1.35195563e-01\n",
      " -2.18321695e-01  4.45254975e+01  6.29498386e+00 -3.80064203e-01\n",
      " -7.98231240e-01  6.52356695e+01  9.58959381e+01  6.96851604e+01\n",
      "  1.02213874e-01  9.05322703e+01  9.22714814e+01  4.42356932e+01\n",
      "  4.12849005e+01  2.21601869e+01  6.94554716e+01  5.09695327e+01\n",
      "  7.89111533e+01 -8.18306089e-01  9.17640724e+01  8.32420837e+01\n",
      "  9.49868309e+00  5.06983690e+01 -3.29984537e-01]\n",
      "В случае использования стохастического градиентного спуска ошибка составляет 35.3834\n",
      "Wall time: 10.5 s\n"
     ]
    }
   ],
   "source": [
    "%%time\n",
    "\n",
    "# стохастический градиентный спуск\n",
    "\n",
    "# инициализируем начальный вектор весов\n",
    "w = np.zeros(X.shape[1])\n",
    "\n",
    "# список векторов весов после каждой итерации\n",
    "w_list = [w.copy()]\n",
    "\n",
    "# список значений ошибок после каждой итерации\n",
    "errors_sgd = []\n",
    "\n",
    "# шаг градиентного спуска\n",
    "eta = 2e-2\n",
    "\n",
    "# максимальное число итераций\n",
    "max_iter = 900\n",
    "\n",
    "# критерий сходимости (разница весов, при которой алгоритм останавливается)\n",
    "min_weight_dist = 1e-8\n",
    "\n",
    "# зададим начальную разницу весов большим числом\n",
    "weight_dist = np.inf\n",
    "\n",
    "# счетчик итераций\n",
    "iter_num = 0\n",
    "\n",
    "np.random.seed(1234)\n",
    "\n",
    "# ход градиентного спуска\n",
    "while weight_dist > min_weight_dist and iter_num < max_iter:\n",
    "    \n",
    "    # генерируем случайный индекс объекта выборки\n",
    "    train_ind = np.random.randint(X.shape[0], size=1)\n",
    "    \n",
    "    y_pred = np.dot(X[train_ind], w)\n",
    "    new_w = w - eta * 2 / Y[train_ind].shape[0] * np.dot(X[train_ind].T, y_pred - Y[train_ind])\n",
    "\n",
    "    weight_dist = np.linalg.norm(new_w - w, ord=2)\n",
    " \n",
    "    y = X.dot(w)\n",
    "    error = calc_mse(y, Y)\n",
    "    \n",
    "    w_list.append(new_w.copy())\n",
    "    errors_sgd.append(error)    \n",
    "    \n",
    "    if iter_num % 100 == 0:\n",
    "        eta /= 1.1\n",
    "        print(f'Iteration #{iter_num}: W_new = {new_w}, MSE = {round(error, 2)}, weight_dist = {weight_dist}')        \n",
    "\n",
    "    iter_num += 1\n",
    "    w = new_w\n",
    "    \n",
    "w_list = np.array(w_list)\n",
    "\n",
    "print(f'Iter {iter_num}: error = {error}, weights: {new_w}')\n",
    "print(f'В случае использования стохастического градиентного спуска ошибка составляет {round(errors_sgd[-1], 4)}')"
   ]
  },
  {
   "cell_type": "code",
   "execution_count": 5,
   "id": "205208f2",
   "metadata": {},
   "outputs": [],
   "source": [
    "# для сравнения теоритические веса модели:\n",
    "#  array([89.90397689, 14.05105681, 84.89287943, 84.32492947,  1.83700566,\n",
    "#        60.8697176 ,  0.        ,  0.        , 40.42989803,  0.        ,\n",
    "#        29.25410333,  0.        ,  0.        , 45.25234961,  6.34122418,\n",
    "#         0.        ,  0.        , 64.53152069, 95.98339009, 69.053052  ,\n",
    "#         0.        , 89.81735435, 92.64132775, 44.70591003, 41.30677972,\n",
    "#        22.77369565, 68.60152541, 50.63621443, 78.52770633,  0.        ,\n",
    "#        92.59645841, 82.5367954 ,  9.89624146, 52.15291748,  0.        ])"
   ]
  },
  {
   "cell_type": "markdown",
   "id": "6e9157fa",
   "metadata": {},
   "source": [
    "теперь дадим эту задачу простому градиентному спуску"
   ]
  },
  {
   "cell_type": "code",
   "execution_count": 6,
   "id": "c3c7bb35",
   "metadata": {},
   "outputs": [
    {
     "name": "stdout",
     "output_type": "stream",
     "text": [
      "Iter #0: W_new = [ 3.56531262e+00  5.79978318e-01  3.41223449e+00  3.38261164e+00\n",
      "  8.97036566e-02  2.40110007e+00 -1.03196052e-02 -5.86831769e-03\n",
      "  1.61379822e+00  5.30959684e-03  1.17841325e+00 -1.76086705e-03\n",
      "  1.07276996e-02  1.82171950e+00  2.51646249e-01  2.90173419e-02\n",
      " -8.92268524e-03  2.57712381e+00  3.84324544e+00  2.77050576e+00\n",
      "  2.43405016e-02  3.58997089e+00  3.70591451e+00  1.77722019e+00\n",
      "  1.66484749e+00  8.99010797e-01  2.75960476e+00  2.00554516e+00\n",
      "  3.11527973e+00  9.76743943e-03  3.69979113e+00  3.29720804e+00\n",
      "  3.97812171e-01  2.06862844e+00 -2.25571922e-02], MSE = 101440.62, weight_dist = 12.730750846811494\n",
      "Iter #100: W_new = [ 8.77013348e+01  1.37608283e+01  8.29273048e+01  8.23419754e+01\n",
      "  1.83525772e+00  5.93473911e+01 -2.39567585e-02 -1.60314414e-02\n",
      "  3.94689469e+01  1.76224838e-02  2.85759366e+01  6.08832260e-03\n",
      "  2.52274788e-02  4.42076656e+01  6.19743687e+00  7.74287510e-02\n",
      " -1.64235234e-02  6.30007722e+01  9.37247575e+01  6.74325025e+01\n",
      "  5.37644377e-02  8.76816536e+01  9.04508979e+01  4.36327251e+01\n",
      "  4.03574381e+01  2.22169552e+01  6.70168420e+01  4.93935924e+01\n",
      "  7.66173206e+01  2.25509538e-02  9.03990578e+01  8.05712292e+01\n",
      "  9.66280290e+00  5.08826446e+01 -4.42194162e-02], MSE = 86.57, weight_dist = 0.28529905002909683\n",
      "Iter #200: W_new = [ 8.98172845e+01  1.40433770e+01  8.48309014e+01  8.42452540e+01\n",
      "  1.84362235e+00  6.08068970e+01 -2.37259414e-03 -3.69513695e-03\n",
      "  4.03988074e+01  7.57497946e-03  2.92252890e+01  9.70142464e-03\n",
      "  1.97901815e-03  4.52157514e+01  6.34700522e+00  1.76933736e-02\n",
      "  3.07160359e-03  6.44831962e+01  9.59066275e+01  6.89904324e+01\n",
      "  1.99887519e-03  8.97365401e+01  9.25647949e+01  4.46772162e+01\n",
      "  4.12740611e+01  2.27637388e+01  6.85506780e+01  5.05908611e+01\n",
      "  7.84649508e+01  1.47461068e-03  9.25211044e+01  8.24638437e+01\n",
      "  9.88414502e+00  5.21099831e+01  4.66761631e-03], MSE = 24.99, weight_dist = 0.009014133757248603\n",
      "Iter #300: W_new = [ 8.98917721e+01  1.40518256e+01  8.48950479e+01  8.43097956e+01\n",
      "  1.84285081e+00  6.08591063e+01 -9.58946772e-04 -2.86527547e-03\n",
      "  4.04308572e+01  6.93550035e-03  2.92469399e+01  9.85851400e-03\n",
      "  4.08515203e-04  4.52494962e+01  6.35223503e+00  1.37581404e-02\n",
      "  4.36245277e-03  6.45342869e+01  9.59810349e+01  6.90432500e+01\n",
      " -1.41884645e-03  8.98070767e+01  9.26371888e+01  4.47137355e+01\n",
      "  4.13046613e+01  2.27833528e+01  6.86022414e+01  5.06331581e+01\n",
      "  7.85299902e+01  5.88147450e-05  9.25940564e+01  8.25289703e+01\n",
      "  9.89159175e+00  5.21531764e+01  7.90276229e-03], MSE = 24.91, weight_dist = 0.0003887124078478168\n",
      "Iter #400: W_new = [ 8.98953269e+01  1.40521664e+01  8.48979924e+01  8.43127755e+01\n",
      "  1.84277036e+00  6.08616323e+01 -8.64864678e-04 -2.80877244e-03\n",
      "  4.04323580e+01  6.89421124e-03  2.92479230e+01  9.86449490e-03\n",
      "  3.01080057e-04  4.52510350e+01  6.35248180e+00  1.34951431e-02\n",
      "  4.44934371e-03  6.45366810e+01  9.59844858e+01  6.90456885e+01\n",
      " -1.64807022e-03  8.98103690e+01  9.26405612e+01  4.47154678e+01\n",
      "  4.13060543e+01  2.27843055e+01  6.86046038e+01  5.06351821e+01\n",
      "  7.85330948e+01 -3.75831658e-05  9.25974662e+01  8.25320179e+01\n",
      "  9.89193318e+00  5.21552370e+01  8.12032298e-03], MSE = 24.91, weight_dist = 2.2217506570538295e-05\n",
      "Iter #500: W_new = [ 8.98955503e+01  1.40521843e+01  8.48981712e+01  8.43129573e+01\n",
      "  1.84276293e+00  6.08617929e+01 -8.57515377e-04 -2.80426813e-03\n",
      "  4.04324507e+01  6.89107786e-03  2.92479820e+01  9.86465175e-03\n",
      "  2.92479259e-04  4.52511278e+01  6.35249708e+00  1.34745252e-02\n",
      "  4.45620324e-03  6.45368291e+01  9.59846972e+01  6.90458373e+01\n",
      " -1.66610456e-03  8.98105719e+01  9.26407687e+01  4.47155761e+01\n",
      "  4.13061382e+01  2.27843664e+01  6.86047470e+01  5.06353096e+01\n",
      "  7.85332900e+01 -4.52693135e-05  9.25976766e+01  8.25322062e+01\n",
      "  9.89195389e+00  5.21553665e+01  8.13748129e-03], MSE = 24.91, weight_dist = 1.6392376924481247e-06\n",
      "Iter #600: W_new = [ 8.98955683e+01  1.40521855e+01  8.48981852e+01  8.43129716e+01\n",
      "  1.84276217e+00  6.08618060e+01 -8.56822781e-04 -2.80383583e-03\n",
      "  4.04324581e+01  6.89079046e-03  2.92479866e+01  9.86464028e-03\n",
      "  2.91650755e-04  4.52511350e+01  6.35249830e+00  1.34725760e-02\n",
      "  4.45685591e-03  6.45368408e+01  9.59847139e+01  6.90458490e+01\n",
      " -1.66781526e-03  8.98105880e+01  9.26407851e+01  4.47155848e+01\n",
      "  4.13061448e+01  2.27843714e+01  6.86047582e+01  5.06353199e+01\n",
      "  7.85333058e+01 -4.60071289e-05  9.25976933e+01  8.25322211e+01\n",
      "  9.89195551e+00  5.21553769e+01  8.13911234e-03], MSE = 24.91, weight_dist = 1.5243830201415563e-07\n",
      "Iter #700: W_new = [ 8.98955701e+01  1.40521856e+01  8.48981866e+01  8.43129730e+01\n",
      "  1.84276208e+00  6.08618073e+01 -8.56744038e-04 -2.80378586e-03\n",
      "  4.04324588e+01  6.89075860e-03  2.92479870e+01  9.86463628e-03\n",
      "  2.91554693e-04  4.52511357e+01  6.35249842e+00  1.34723538e-02\n",
      "  4.45693076e-03  6.45368420e+01  9.59847155e+01  6.90458501e+01\n",
      " -1.66801092e-03  8.98105896e+01  9.26407867e+01  4.47155857e+01\n",
      "  4.13061454e+01  2.27843719e+01  6.86047593e+01  5.06353209e+01\n",
      "  7.85333074e+01 -4.60924163e-05  9.25976950e+01  8.25322226e+01\n",
      "  9.89195567e+00  5.21553780e+01  8.13929923e-03], MSE = 24.91, weight_dist = 1.748532070784467e-08\n",
      "Wall time: 13.9 s\n"
     ]
    }
   ],
   "source": [
    "%%time\n",
    "\n",
    "#  градиентный спуск\n",
    "\n",
    "n = X.shape[0]\n",
    "\n",
    "eta = 2e-2 \n",
    "n_iter = 900\n",
    "\n",
    "# счетчик итераций\n",
    "iter_num = 0\n",
    "\n",
    "# критерий сходимости (разница весов, при которой алгоритм останавливается)\n",
    "min_weight_dist = 1e-8\n",
    "\n",
    "#  зададим начальную разницу весов числом превышающим min_weight_dist\n",
    "weight_dist = 1\n",
    "\n",
    "# инициализируем начальный вектор весов\n",
    "W = np.zeros(X.shape[1])\n",
    "\n",
    "# список значений ошибок после каждой итерации\n",
    "errors_gd = []\n",
    "\n",
    "# чтобы не переписывать код\n",
    "y = Y\n",
    "\n",
    "while weight_dist > min_weight_dist and iter_num < n_iter:\n",
    "    \n",
    "    y_pred = np.dot(X, W)\n",
    "    err = calc_mse(y, y_pred)    \n",
    "    \n",
    "    new_W = W - eta * (1/n * 2 * np.dot(X.T, y_pred - y))\n",
    "    weight_dist = np.linalg.norm(new_W - W, ord=2)    \n",
    "    \n",
    "    errors_gd.append(err)\n",
    "\n",
    "    if iter_num % 100 == 0:\n",
    "        eta /= 1.1\n",
    "        print(f'Iter #{iter_num}: W_new = {new_W}, MSE = {round(err,2)}, weight_dist = {weight_dist}')\n",
    "     \n",
    "    iter_num += 1\n",
    "    W = new_W   "
   ]
  },
  {
   "cell_type": "code",
   "execution_count": 7,
   "id": "f3c7501f",
   "metadata": {},
   "outputs": [],
   "source": [
    "# для сравнения теоритические веса модели:\n",
    "#  array([89.90397689, 14.05105681, 84.89287943, 84.32492947,  1.83700566,\n",
    "#        60.8697176 ,  0.        ,  0.        , 40.42989803,  0.        ,\n",
    "#        29.25410333,  0.        ,  0.        , 45.25234961,  6.34122418,\n",
    "#         0.        ,  0.        , 64.53152069, 95.98339009, 69.053052  ,\n",
    "#         0.        , 89.81735435, 92.64132775, 44.70591003, 41.30677972,\n",
    "#        22.77369565, 68.60152541, 50.63621443, 78.52770633,  0.        ,\n",
    "#        92.59645841, 82.5367954 ,  9.89624146, 52.15291748,  0.        ])"
   ]
  },
  {
   "cell_type": "markdown",
   "id": "b6dcfe61",
   "metadata": {},
   "source": [
    "Итак, на моем компьютере __время работы sgd = 10.5 s,  а время работы gd = 13.9 s__\n",
    "\n",
    "Действительно, __для тяжелых датасетов sgd будет попроворнее gd__"
   ]
  },
  {
   "cell_type": "markdown",
   "id": "27d5650e",
   "metadata": {},
   "source": [
    "Теперь посмотрим графики"
   ]
  },
  {
   "cell_type": "code",
   "execution_count": 8,
   "id": "c351a28c",
   "metadata": {},
   "outputs": [
    {
     "data": {
      "image/png": "[encoded data removed]",
      "text/plain": [
       "<Figure size 864x504 with 1 Axes>"
      ]
     },
     "metadata": {
      "needs_background": "light"
     },
     "output_type": "display_data"
    }
   ],
   "source": [
    "# Визуализируем изменение функционала ошибки\n",
    "plt.figure(figsize = (12, 7))\n",
    "max_len = max(len(errors_sgd), len(errors_gd))\n",
    "plt.plot(range(max_len), errors_sgd, errors_gd)\n",
    "plt.title('MSE')\n",
    "plt.xlabel('Iteration number')\n",
    "plt.ylabel('MSE')\n",
    "plt.legend(['errors_sgd', 'errors_gd']);"
   ]
  },
  {
   "cell_type": "code",
   "execution_count": 9,
   "id": "d5ab70ec",
   "metadata": {},
   "outputs": [
    {
     "data": {
      "image/png": "[encoded data removed]",
      "text/plain": [
       "<Figure size 864x504 with 1 Axes>"
      ]
     },
     "metadata": {
      "needs_background": "light"
     },
     "output_type": "display_data"
    }
   ],
   "source": [
    "plt.figure(figsize = (12, 7))\n",
    "# посмотрим поближе начальный участок: iter_num от 0 до first_part\n",
    "first_part = 150\n",
    "plt.plot(range(first_part), errors_sgd[:first_part], errors_gd[:first_part])\n",
    "plt.title('MSE')\n",
    "plt.xlabel('Iteration number')\n",
    "plt.ylabel('MSE')\n",
    "plt.legend(['errors_sgd', 'errors_gd']);"
   ]
  },
  {
   "cell_type": "code",
   "execution_count": 10,
   "id": "417b4c7e",
   "metadata": {},
   "outputs": [
    {
     "data": {
      "image/png": "[encoded data removed]",
      "text/plain": [
       "<Figure size 864x504 with 1 Axes>"
      ]
     },
     "metadata": {
      "needs_background": "light"
     },
     "output_type": "display_data"
    }
   ],
   "source": [
    "plt.figure(figsize = (12, 7))\n",
    "# посмотрим поближе средний участок: iter_num от first_part до second_part\n",
    "second_part = 330\n",
    "plt.plot(range(first_part, second_part), errors_sgd[first_part:second_part], range(first_part, second_part), errors_gd[first_part:second_part])\n",
    "plt.title('MSE')\n",
    "plt.xlabel('Iteration number')\n",
    "plt.ylabel('MSE')\n",
    "plt.legend(['errors_sgd', 'errors_gd']);"
   ]
  },
  {
   "cell_type": "code",
   "execution_count": 11,
   "id": "84b427b6",
   "metadata": {},
   "outputs": [
    {
     "data": {
      "image/png": "[encoded data removed]",
      "text/plain": [
       "<Figure size 864x504 with 1 Axes>"
      ]
     },
     "metadata": {
      "needs_background": "light"
     },
     "output_type": "display_data"
    }
   ],
   "source": [
    "plt.figure(figsize = (12, 7))\n",
    "# посмотрим поближе финальный участок: iter_num от second_part и до финала\n",
    "plt.plot(range(second_part, len(errors_sgd)), errors_sgd[second_part:len(errors_sgd)], range(second_part, len(errors_gd)), errors_gd[second_part:len(errors_gd)])\n",
    "plt.title('MSE')\n",
    "plt.xlabel('Iteration number')\n",
    "plt.ylabel('MSE')\n",
    "plt.legend(['errors_sgd', 'errors_gd']);"
   ]
  },
  {
   "cell_type": "markdown",
   "id": "ad5688b0",
   "metadata": {},
   "source": [
    "Графики показывают, что __в зависимости от числа итераций sgd сходится медленне и в финале уменьшает ошибку хуже gd__\n",
    "\n",
    "Более того, gd вышел из расчетов по достижению критерия сходимости на 726 цикле (разница весов на предидущем и последующем шаге итераций стала меньше min_weight_dist = 1e-8) . А sgd вышел из цикла по ограничению количества итераций на 900 цикле, то есть этот алгоритм не сошелся к 900 шагу."
   ]
  },
  {
   "cell_type": "code",
   "execution_count": 12,
   "id": "3ae1c3f3",
   "metadata": {},
   "outputs": [
    {
     "data": {
      "text/plain": [
       "(726, 900)"
      ]
     },
     "execution_count": 12,
     "metadata": {},
     "output_type": "execute_result"
    }
   ],
   "source": [
    "len(errors_gd), len(errors_sgd)"
   ]
  },
  {
   "cell_type": "markdown",
   "id": "62436fb0",
   "metadata": {},
   "source": [
    "Общий вывод: __sgd по времени работает быстрее, но он не в состоянии достигнуть точности gd__\n",
    "\n",
    "Напрашивается такой вариант применения комбинации sgd и gd:\n",
    "    \n",
    "Стартовую работу выполняет sgd, а затем для более качественного завершения расчетов стоит подключать gd"
   ]
  },
  {
   "cell_type": "code",
   "execution_count": null,
   "id": "2ef6cd77",
   "metadata": {},
   "outputs": [],
   "source": []
  },
  {
   "cell_type": "markdown",
   "id": "1fded8b9",
   "metadata": {},
   "source": [
    "__Задача 2.__ Добавить в алгоритм градиентного спуска L1 регуляризацию. Сравнить влияние коэффициентов регуляризации L1 и L2 на величину весов для примера из урока (лучше графически)."
   ]
  },
  {
   "cell_type": "markdown",
   "id": "18b3e144",
   "metadata": {},
   "source": [
    "Для начала восстановим контекст. Далее идет часть материала из лекции - задача и код для ее решения."
   ]
  },
  {
   "cell_type": "markdown",
   "id": "791ec69e",
   "metadata": {},
   "source": [
    "##### Задача: предсказание баллов ЕГЭ ученика"
   ]
  },
  {
   "cell_type": "code",
   "execution_count": 13,
   "id": "481b899a",
   "metadata": {
    "colab": {},
    "colab_type": "code",
    "id": "_n6il-AZaLuA"
   },
   "outputs": [],
   "source": [
    "X = np.array([[   1,    1,  500,    1],\n",
    "              [   1,    1,  700,    1],\n",
    "              [   1,    2,  750,    2],\n",
    "              [   1,    5,  600,    1],\n",
    "              [   1,    3, 1450,    2],\n",
    "              [   1,    0,  800,    1],\n",
    "              [   1,    5, 1500,    3],\n",
    "              [   1,   10, 2000,    3],\n",
    "              [   1,    1,  450,    1],\n",
    "              [   1,    2, 1000,    2]])"
   ]
  },
  {
   "cell_type": "code",
   "execution_count": 14,
   "id": "2c2e204a",
   "metadata": {
    "colab": {},
    "colab_type": "code",
    "id": "x8yoci01ni-t"
   },
   "outputs": [],
   "source": [
    "y = np.array([45, 55, 50, 55, 60, 35, 75, 80, 50, 60])"
   ]
  },
  {
   "cell_type": "markdown",
   "id": "7f55bd73",
   "metadata": {},
   "source": [
    "##### Нормализация [0, 1]"
   ]
  },
  {
   "cell_type": "code",
   "execution_count": 15,
   "id": "daffcf42",
   "metadata": {},
   "outputs": [],
   "source": [
    "def min_max_scale(X):\n",
    "    return (X - X.min()) / (X.max() - X.min())"
   ]
  },
  {
   "cell_type": "code",
   "execution_count": 16,
   "id": "21b7bcb2",
   "metadata": {
    "colab": {
     "base_uri": "https://localhost:8080/",
     "height": 121
    },
    "colab_type": "code",
    "id": "E55S9Bzob9Xa",
    "outputId": "4abf56a2-d484-4c24-8520-8ed1b58ccca8"
   },
   "outputs": [
    {
     "data": {
      "text/plain": [
       "array([[1.00e+00, 1.00e+00, 5.00e+02, 1.00e+00],\n",
       "       [1.00e+00, 1.00e+00, 7.00e+02, 1.00e+00],\n",
       "       [1.00e+00, 2.00e+00, 7.50e+02, 2.00e+00],\n",
       "       [1.00e+00, 5.00e+00, 6.00e+02, 1.00e+00],\n",
       "       [1.00e+00, 3.00e+00, 1.45e+03, 2.00e+00],\n",
       "       [1.00e+00, 0.00e+00, 8.00e+02, 1.00e+00],\n",
       "       [1.00e+00, 5.00e+00, 1.50e+03, 3.00e+00],\n",
       "       [1.00e+00, 1.00e+01, 2.00e+03, 3.00e+00],\n",
       "       [1.00e+00, 1.00e+00, 4.50e+02, 1.00e+00],\n",
       "       [1.00e+00, 2.00e+00, 1.00e+03, 2.00e+00]])"
      ]
     },
     "execution_count": 16,
     "metadata": {},
     "output_type": "execute_result"
    }
   ],
   "source": [
    "X_norm = X.copy()\n",
    "X_norm = X_norm.astype(np.float64)\n",
    "X_norm"
   ]
  },
  {
   "cell_type": "code",
   "execution_count": 17,
   "id": "23196de3",
   "metadata": {
    "colab": {
     "base_uri": "https://localhost:8080/",
     "height": 121
    },
    "colab_type": "code",
    "id": "7x-6IuPOcIo0",
    "outputId": "1668fec7-37ae-4671-ad9f-f093c30a6c72"
   },
   "outputs": [
    {
     "data": {
      "text/plain": [
       "array([[1.        , 0.1       , 0.03225806, 0.        ],\n",
       "       [1.        , 0.1       , 0.16129032, 0.        ],\n",
       "       [1.        , 0.2       , 0.19354839, 0.5       ],\n",
       "       [1.        , 0.5       , 0.09677419, 0.        ],\n",
       "       [1.        , 0.3       , 0.64516129, 0.5       ],\n",
       "       [1.        , 0.        , 0.22580645, 0.        ],\n",
       "       [1.        , 0.5       , 0.67741935, 1.        ],\n",
       "       [1.        , 1.        , 1.        , 1.        ],\n",
       "       [1.        , 0.1       , 0.        , 0.        ],\n",
       "       [1.        , 0.2       , 0.35483871, 0.5       ]])"
      ]
     },
     "execution_count": 17,
     "metadata": {},
     "output_type": "execute_result"
    }
   ],
   "source": [
    "X_norm[:, 1] = min_max_scale(X_norm[:, 1])\n",
    "X_norm[:, 2] = min_max_scale(X_norm[:, 2])\n",
    "X_norm[:, 3] = min_max_scale(X_norm[:, 3])\n",
    "X_norm"
   ]
  },
  {
   "cell_type": "code",
   "execution_count": 18,
   "id": "73bbcd33",
   "metadata": {},
   "outputs": [
    {
     "data": {
      "text/plain": [
       "array([44.31068418, 22.28480075, -1.13921685, 16.82782676])"
      ]
     },
     "execution_count": 18,
     "metadata": {},
     "output_type": "execute_result"
    }
   ],
   "source": [
    "# истинные веса\n",
    "w_th = np.linalg.solve((X_norm.T).dot(X_norm), (X_norm.T).dot(y))\n",
    "w_th"
   ]
  },
  {
   "cell_type": "markdown",
   "id": "b8c1e62b",
   "metadata": {
    "colab": {},
    "colab_type": "code",
    "id": "UdGy9tjVhZol"
   },
   "source": [
    "##### Gradient descent"
   ]
  },
  {
   "cell_type": "code",
   "execution_count": 19,
   "id": "cadbba09",
   "metadata": {},
   "outputs": [
    {
     "data": {
      "text/plain": [
       "array([0.44641866, 1.59680941, 0.82204692, 1.60121368])"
      ]
     },
     "execution_count": 19,
     "metadata": {},
     "output_type": "execute_result"
    }
   ],
   "source": [
    "W = np.random.randn(X.shape[1])\n",
    "W"
   ]
  },
  {
   "cell_type": "code",
   "execution_count": 20,
   "id": "dec4f695",
   "metadata": {
    "colab": {},
    "colab_type": "code",
    "id": "SgEyis2zlJeb"
   },
   "outputs": [],
   "source": [
    "# классический  GD\n",
    "def gradient_descent(X, y, iterations, eta=1e-4):\n",
    "    W = np.random.randn(X.shape[1])\n",
    "    n = X.shape[0]\n",
    "    \n",
    "    for i in range(0, iterations):\n",
    "        y_pred = np.dot(X, W)\n",
    "        err = calc_mse(y, y_pred)\n",
    "        dQ = 2/n * X.T @ (y_pred - y) # градиент функции ошибки\n",
    "        W -= (eta * dQ)\n",
    "        if i % (iterations / 10) == 0:\n",
    "            print(f'Iter: {i}, weights: {W}, error {err}')\n",
    "    print(f'Final MSE: {calc_mse(y, np.dot(X, W))}')\n",
    "    return W"
   ]
  },
  {
   "cell_type": "code",
   "execution_count": 21,
   "id": "91308930",
   "metadata": {
    "colab": {
     "base_uri": "https://localhost:8080/",
     "height": 207
    },
    "colab_type": "code",
    "id": "4nsYMAGjmFlB",
    "outputId": "8959a8af-3d27-42a6-afae-5db46c794fe1"
   },
   "outputs": [
    {
     "name": "stdout",
     "output_type": "stream",
     "text": [
      "Iter: 0, weights: [ 1.09992831 -0.03999797  1.02085236 -0.18307484], error 3380.551026646507\n",
      "Iter: 500, weights: [43.6073545  13.68161449 12.38156311 12.78464861], error 28.755638832043246\n",
      "Iter: 1000, weights: [44.09421891 14.99838809 10.55636747 12.3375491 ], error 27.59455780846618\n",
      "Iter: 1500, weights: [44.13691294 16.24473526  9.23953598 12.45673753], error 26.93072520851909\n",
      "Iter: 2000, weights: [44.13372716 17.2639155   8.1067796  12.69052336], error 26.453988805183712\n",
      "Iter: 2500, weights: [44.13168742 18.0848958   7.10359726 12.96210919], error 26.102240844071087\n",
      "Iter: 3000, weights: [44.13448297 18.74853606  6.2110792  13.24775868], error 25.837905991727023\n",
      "Iter: 3500, weights: [44.14095965 19.28850648  5.41623894 13.53477202], error 25.63633373907203\n",
      "Iter: 4000, weights: [44.14980315 19.7309782   4.70809058 13.81503065], error 25.480861170869353\n",
      "Iter: 4500, weights: [44.16001164 20.09616386  4.07699212 14.08331221], error 25.35990136733379\n",
      "Final MSE: 25.265181105477012\n"
     ]
    },
    {
     "data": {
      "text/plain": [
       "array([44.17084637, 20.39915192,  3.51548581, 14.33594022])"
      ]
     },
     "execution_count": 21,
     "metadata": {},
     "output_type": "execute_result"
    }
   ],
   "source": [
    "gradient_descent(X_norm, y, iterations=5000, eta=1e-2)"
   ]
  },
  {
   "cell_type": "code",
   "execution_count": 22,
   "id": "f3b60cbf",
   "metadata": {},
   "outputs": [
    {
     "name": "stdout",
     "output_type": "stream",
     "text": [
      "Iter: 0, weights: [11.94368224  4.74554277  5.05631641  4.93237237], error 3167.3351973388712\n",
      "Iter: 500, weights: [44.17591837 20.49948786  3.30576234 14.43844785], error 25.234605660422805\n",
      "Iter: 1000, weights: [44.26057505 21.8010669   0.28297107 16.00776159], error 24.938090226344823\n",
      "Iter: 1500, weights: [44.2942155  22.13488847 -0.6834178  16.56175022], error 24.908057924854806\n",
      "Iter: 2000, weights: [44.30538059 22.23703961 -0.9930924  16.74233533], error 24.904972377409468\n",
      "Iter: 2500, weights: [44.30898241 22.26950565 -1.09236826 16.80040646], error 24.904655213822107\n",
      "Iter: 3000, weights: [44.31013849 22.279898   -1.12419669 16.81903487], error 24.90462261204289\n",
      "Iter: 3500, weights: [44.31050922 22.28322893 -1.13440122 16.82500794], error 24.904619260849362\n",
      "Iter: 4000, weights: [44.31062809 22.28429681 -1.13767291 16.82692301], error 24.90461891637434\n",
      "Iter: 4500, weights: [44.3106662  22.28463918 -1.13872185 16.82753701], error 24.904618880965153\n",
      "Final MSE: 24.904618877325394\n"
     ]
    },
    {
     "data": {
      "text/plain": [
       "array([44.3106784 , 22.28474883, -1.13905779, 16.82773365])"
      ]
     },
     "execution_count": 22,
     "metadata": {},
     "output_type": "execute_result"
    }
   ],
   "source": [
    "gradient_descent(X_norm, y, iterations=5000, eta=1e-1)"
   ]
  },
  {
   "cell_type": "code",
   "execution_count": 23,
   "id": "1bed3099",
   "metadata": {},
   "outputs": [],
   "source": [
    "# истинные веса для сравнения\n",
    "# array([44.31068418, 22.28480075, -1.13921685, 16.82782676])"
   ]
  },
  {
   "cell_type": "markdown",
   "id": "5ac93467",
   "metadata": {
    "colab": {},
    "colab_type": "code",
    "id": "j38vId7Hvtg0"
   },
   "source": [
    " ##### L2 регуляризация"
   ]
  },
  {
   "cell_type": "markdown",
   "id": "f33d91b4",
   "metadata": {},
   "source": [
    "$$Q(w, X) + \\lambda ||w||^{2} \\rightarrow \\underset{w}{\\text{min}}.$$\n",
    "\n",
    "<center>Производная</center>\n",
    "\n",
    "$$d\\lambda ||w||^{2} = 2\\lambda w $$"
   ]
  },
  {
   "cell_type": "code",
   "execution_count": 24,
   "id": "412eb984",
   "metadata": {
    "colab": {},
    "colab_type": "code",
    "id": "7AVoe1Mswjni"
   },
   "outputs": [],
   "source": [
    "def gradient_descent_reg_l2(X, y, iterations, eta=1e-4, reg=1e-8):\n",
    "    W = np.random.randn(X.shape[1])\n",
    "    n = X.shape[0]\n",
    "    \n",
    "    for i in range(0, iterations):\n",
    "        y_pred = np.dot(X, W)\n",
    "        err = calc_mse(y, y_pred)\n",
    "        \n",
    "        dQ = 2/n * X.T @ (y_pred - y) # градиент функции ошибки\n",
    "        dReg = reg * W # градиент регуляризации\n",
    "        \n",
    "        W -= eta * (dQ + dReg)\n",
    "        \n",
    "        if i % (iterations / 10) == 0:\n",
    "            print(f'Iter: {i}, weights: {W}, error {err}')\n",
    "    \n",
    "    print(f'Final MSE: {calc_mse(y, np.dot(X, W))}')\n",
    "    return W, err"
   ]
  },
  {
   "cell_type": "code",
   "execution_count": 25,
   "id": "ab877f28",
   "metadata": {
    "colab": {
     "base_uri": "https://localhost:8080/",
     "height": 207
    },
    "colab_type": "code",
    "id": "vLJL6j8Lw6OA",
    "outputId": "dac9ef42-5966-4404-9346-aeb18cca83c6"
   },
   "outputs": [
    {
     "name": "stdout",
     "output_type": "stream",
     "text": [
      "Iter: 0, weights: [11.44565663  4.10731905  4.4770853   4.62679443], error 3335.6307024594266\n",
      "Iter: 500, weights: [44.15253186 20.35116081  3.46045737 14.41991712], error 25.26018382747998\n",
      "Iter: 1000, weights: [44.2292885  21.57262186  0.66681796 15.85847895], error 24.95924059232166\n",
      "Iter: 1500, weights: [44.25877128 21.86703378 -0.18249926 16.34470079], error 24.920488855969708\n",
      "Iter: 2000, weights: [44.26809927 21.95247589 -0.44134674 16.49561005], error 24.91345970483913\n",
      "Iter: 2500, weights: [44.27096249 21.97828976 -0.52027165 16.54177494], error 24.91175970030268\n",
      "Iter: 3000, weights: [44.27183664 21.98614805 -0.54433854 16.5558606 ], error 24.91128246034174\n",
      "Iter: 3500, weights: [44.27210326 21.98854361 -0.55167746 16.56015632], error 24.911140753980764\n",
      "Iter: 4000, weights: [44.27218457 21.98927407 -0.55391539 16.56146628], error 24.911097897355944\n",
      "Iter: 4500, weights: [44.27220936 21.98949681 -0.55459782 16.56186575], error 24.911084861695166\n",
      "Final MSE: 24.911080889675794\n"
     ]
    },
    {
     "data": {
      "text/plain": [
       "(array([44.27221691, 21.98956467, -0.5548057 , 16.56198743]),\n",
       " 24.91108089381916)"
      ]
     },
     "execution_count": 25,
     "metadata": {},
     "output_type": "execute_result"
    }
   ],
   "source": [
    "gradient_descent_reg_l2(X_norm, y, iterations=5000, eta=1e-1, reg=1e-3)"
   ]
  },
  {
   "cell_type": "code",
   "execution_count": 26,
   "id": "ae8c0316",
   "metadata": {
    "colab": {
     "base_uri": "https://localhost:8080/",
     "height": 207
    },
    "colab_type": "code",
    "id": "4nsYMAGjmFlB",
    "outputId": "8959a8af-3d27-42a6-afae-5db46c794fe1"
   },
   "outputs": [
    {
     "name": "stdout",
     "output_type": "stream",
     "text": [
      "Iter: 0, weights: [11.36932877  4.8877064   3.70063186  6.08430309], error 3255.2024143856497\n",
      "Iter: 500, weights: [44.19397615 20.62786094  2.8520776  14.71653124], error 25.171867298975606\n",
      "Iter: 1000, weights: [44.26595794 21.8474485   0.13734226 16.09373649], error 24.931586824849852\n",
      "Iter: 1500, weights: [44.29591757 22.15006406 -0.73011813 16.58912891], error 24.907389243258102\n",
      "Iter: 2000, weights: [44.3059249  22.2419229  -1.00806566 16.7511024 ], error 24.904903641831424\n",
      "Iter: 2500, weights: [44.30915684 22.27107233 -1.09716889 16.80321665], error 24.90464814837029\n",
      "Iter: 3000, weights: [44.31019441 22.28040035 -1.12573583 16.81993581], error 24.90462188577282\n",
      "Iter: 3500, weights: [44.31052715 22.28339    -1.13489468 16.82529679], error 24.904619186194793\n",
      "Iter: 4000, weights: [44.31063383 22.28434845 -1.13783112 16.82701562], error 24.904618908700467\n",
      "Iter: 4500, weights: [44.31066804 22.28465574 -1.13877257 16.8275667 ], error 24.904618880176333\n",
      "Final MSE: 24.904618877244296\n"
     ]
    },
    {
     "data": {
      "text/plain": [
       "array([44.31067899, 22.28475415, -1.13907409, 16.82774319])"
      ]
     },
     "execution_count": 26,
     "metadata": {},
     "output_type": "execute_result"
    }
   ],
   "source": [
    "# для сравнения\n",
    "gradient_descent(X_norm, y, iterations=5000, eta=1e-1)"
   ]
  },
  {
   "cell_type": "markdown",
   "id": "88a43972",
   "metadata": {},
   "source": [
    "Итак, контекст восстановлен. Теперь решаем задачу."
   ]
  },
  {
   "cell_type": "markdown",
   "id": "a0085fc0",
   "metadata": {},
   "source": [
    "__Решение 2__"
   ]
  },
  {
   "cell_type": "markdown",
   "id": "9771a732",
   "metadata": {
    "colab": {},
    "colab_type": "code",
    "id": "DYTxT_6OrZpe"
   },
   "source": [
    "##### L1 регуляризация"
   ]
  },
  {
   "cell_type": "markdown",
   "id": "58604e80",
   "metadata": {
    "colab": {},
    "colab_type": "code",
    "id": "Ojkn7xKrsyiw"
   },
   "source": [
    "$$Q(w, X) + \\lambda |w| \\rightarrow \\underset{w}{\\text{min}}.$$\n",
    "\n",
    "<center>Производная</center>\n",
    "\n",
    "$$d\\lambda |w| = \\lambda $$"
   ]
  },
  {
   "cell_type": "markdown",
   "id": "2cfdd6fb",
   "metadata": {},
   "source": [
    "Напишем функцию, реализующую L1 регуляризацию"
   ]
  },
  {
   "cell_type": "code",
   "execution_count": 27,
   "id": "fe252b61",
   "metadata": {},
   "outputs": [],
   "source": [
    "def gradient_descent_reg_l1(X, y, iterations, eta=1e-4, reg=1e-8):\n",
    "    W = np.random.randn(X.shape[1])\n",
    "    n = X.shape[0]\n",
    "    \n",
    "    for i in range(0, iterations):\n",
    "        y_pred = np.dot(X, W)\n",
    "        err = calc_mse(y, y_pred)\n",
    "        \n",
    "        dQ = 2/n * X.T @ (y_pred - y) # градиент функции ошибки\n",
    "        # ИЗМЕНЕНИЯ\n",
    "        dReg = reg # градиент регуляризации      \n",
    "                \n",
    "        W -= eta * (dQ + dReg)\n",
    "        \n",
    "        if i % (iterations / 10) == 0:\n",
    "            print(f'Iter: {i}, weights: {W}, error {err}')\n",
    "    \n",
    "    print(f'Final MSE: {calc_mse(y, np.dot(X, W))}')\n",
    "    return W, err"
   ]
  },
  {
   "cell_type": "markdown",
   "id": "218573a8",
   "metadata": {},
   "source": [
    "Попробуем посчитать"
   ]
  },
  {
   "cell_type": "code",
   "execution_count": 28,
   "id": "06e157df",
   "metadata": {},
   "outputs": [
    {
     "name": "stdout",
     "output_type": "stream",
     "text": [
      "Iter: 0, weights: [11.37348617  3.60382646  4.75247638  2.56271615], error 3499.486189053989\n",
      "Iter: 500, weights: [44.16297458 20.407662    3.63144649 14.2383367 ], error 25.283884791874254\n",
      "Iter: 1000, weights: [44.25679641 21.76739851  0.38734855 15.946134  ], error 24.94318913095811\n",
      "Iter: 1500, weights: [44.29308487 22.12359703 -0.65011681 16.54224945], error 24.908580447213083\n",
      "Iter: 2000, weights: [44.30508198 22.23314039 -0.98258654 16.73620817], error 24.90502554978017\n",
      "Iter: 2500, weights: [44.30894956 22.26798919 -1.08917119 16.79855928], error 24.904660518571816\n",
      "Iter: 3000, weights: [44.31019079 22.27914623 -1.12334294 16.81855944], error 24.904623117289525\n",
      "Iter: 3500, weights: [44.31058882 22.28272237 -1.13429876 16.82497229], error 24.904619311487004\n",
      "Iter: 4000, weights: [44.31071643 22.28386887 -1.13781132 16.82702836], error 24.904618932701354\n",
      "Iter: 4500, weights: [44.31075735 22.28423645 -1.13893749 16.82768756], error 24.904618897747078\n",
      "Final MSE: 24.904618895430637\n"
     ]
    },
    {
     "data": {
      "text/plain": [
       "(array([44.31077045, 22.28435417, -1.13929816, 16.82789868]),\n",
       " 24.904618895430815)"
      ]
     },
     "execution_count": 28,
     "metadata": {},
     "output_type": "execute_result"
    }
   ],
   "source": [
    "gradient_descent_reg_l1(X_norm, y, iterations=5000, eta=1e-1, reg=1e-4)"
   ]
  },
  {
   "cell_type": "code",
   "execution_count": 29,
   "id": "aac48277",
   "metadata": {},
   "outputs": [
    {
     "name": "stdout",
     "output_type": "stream",
     "text": [
      "Iter: 0, weights: [12.03786426  3.3772074   4.76657508  5.11145307], error 3233.7318651228443\n",
      "Iter: 500, weights: [44.17777259 20.41917663  3.3378357  14.46503323], error 25.241018369105813\n",
      "Iter: 1000, weights: [44.25753245 21.77275932  0.32692577 15.99189323], error 24.940181891186484\n",
      "Iter: 1500, weights: [44.2905899  22.10676368 -0.63035599 16.5385466 ], error 24.9089023397054\n",
      "Iter: 2000, weights: [44.30157798 22.2076303  -0.93554988 16.71639587], error 24.905309917461057\n",
      "Iter: 2500, weights: [44.30510898 22.23947734 -1.03289853 16.77333254], error 24.904812919369505\n",
      "Iter: 3000, weights: [44.3062369  22.24961763 -1.06395297 16.79150754], error 24.90472040610158\n",
      "Iter: 3500, weights: [44.3065968  22.25285135 -1.07385957 16.7973062 ], error 24.90469761282759\n",
      "Iter: 4000, weights: [44.30671162 22.25388287 -1.07701987 16.79915607], error 24.90469102532793\n",
      "Iter: 4500, weights: [44.30674824 22.25421194 -1.07802803 16.79974619], error 24.904688993438523\n",
      "Final MSE: 24.904688352328776\n"
     ]
    },
    {
     "data": {
      "text/plain": [
       "(array([44.30675992, 22.2543168 , -1.07834929, 16.79993425]),\n",
       " 24.904688353014024)"
      ]
     },
     "execution_count": 29,
     "metadata": {},
     "output_type": "execute_result"
    }
   ],
   "source": [
    "# для сравнения\n",
    "gradient_descent_reg_l2(X_norm, y, iterations=5000, eta=1e-1, reg=1e-4)"
   ]
  },
  {
   "cell_type": "markdown",
   "id": "711b7137",
   "metadata": {},
   "source": [
    "теперь исследуем зависимость влияния коэффициентов регуляризации L1 и L2 на ошибку и величину весов для этого примера из урока"
   ]
  },
  {
   "cell_type": "code",
   "execution_count": 36,
   "id": "b7fc8179",
   "metadata": {},
   "outputs": [
    {
     "name": "stdout",
     "output_type": "stream",
     "text": [
      "Iter: 0, weights: [-0.23691696 -0.02941811  0.14504342  1.48996392], error 3494.79701847191\n",
      "Iter: 500, weights: [43.58352245 13.62518597 11.36051142 13.83331369], error 28.570934015038556\n",
      "Iter: 1000, weights: [44.14570173 14.96954355  9.58363906 13.15227591], error 27.34015922261873\n",
      "Iter: 1500, weights: [44.18876368 16.26346992  8.36218139 13.14325117], error 26.702812356010458\n",
      "Iter: 2000, weights: [44.17830633 17.31768858  7.32146025 13.27900936], error 26.258648692070956\n",
      "Iter: 2500, weights: [44.16942579 18.16123912  6.40155125 13.46989354], error 25.93881021511188\n",
      "Iter: 3000, weights: [44.16652702 18.83807763  5.58369585 13.68792976], error 25.703270957549552\n",
      "Iter: 3500, weights: [44.16831603 19.38454598  4.85568562 13.91783399], error 25.526554549053024\n",
      "Iter: 4000, weights: [44.17328362 19.82883213  4.20732167 14.14954859], error 25.3919712078521\n",
      "Iter: 4500, weights: [44.18026604 20.1926343   3.62968497 14.37633015], error 25.28827063835363\n",
      "Final MSE: 25.207650979320228\n",
      "Iter: 0, weights: [-0.63605474 -0.38047096  0.55313762  1.46792241], error 3539.0518192428012\n",
      "Iter: 500, weights: [43.56234539 13.351434   11.72067583 13.76271611], error 28.795959782833876\n",
      "Iter: 1000, weights: [44.13987168 14.73981161  9.89388854 13.05845141], error 27.48882144076714\n",
      "Iter: 1500, weights: [44.18374673 16.07414105  8.63881104 13.04611311], error 26.812257121611008\n",
      "Iter: 2000, weights: [44.17271861 17.16043659  7.57000842 13.18322428], error 26.341277837961695\n",
      "Iter: 2500, weights: [44.16338404 18.02904421  6.62576799 13.37741286], error 26.00240418334019\n",
      "Iter: 3000, weights: [44.16024448 18.72550045  5.78671308 13.59978351], error 25.752991823453545\n",
      "Iter: 3500, weights: [44.16195386 19.28741139  5.04021527 13.83453177], error 25.56593568355141\n",
      "Iter: 4000, weights: [44.16695062 19.74392833  4.37572601 14.07125903], error 25.42350055424002\n",
      "Iter: 4500, weights: [44.17403188 20.11747951  3.78402452 14.30299654], error 25.313745107760123\n",
      "Final MSE: 25.22839721630339\n",
      "Iter: 0, weights: [ 3.23595139  1.74254413  1.84614637 -0.16441252], error 3306.42988047916\n",
      "Iter: 500, weights: [44.08408219 16.186798    9.92751402 11.98012862], error 27.13976492106672\n",
      "Iter: 1000, weights: [44.10793557 18.34348533  7.15396656 12.75761673], error 26.08913485054108\n",
      "Iter: 1500, weights: [44.13293131 19.64290756  5.09189781 13.56646117], error 25.555893489098494\n",
      "Iter: 2000, weights: [44.16447316 20.45613845  3.5453724  14.27577222], error 25.268772885914963\n",
      "Iter: 2500, weights: [44.19453145 20.98706005  2.38403816 14.85908429], error 25.109746940765998\n",
      "Iter: 3000, weights: [44.22026611 21.34670206  1.51126357 15.322463  ], error 25.020539060743765\n",
      "Iter: 3500, weights: [44.24116728 21.59771538  0.85500796 15.68321534], error 24.970216825120346\n",
      "Iter: 4000, weights: [44.25765292 21.77695629  0.36138861 15.96064066], error 24.94176161889085\n",
      "Iter: 4500, weights: [ 4.42704323e+01  2.19070946e+01 -9.98273987e-03  1.61723534e+01], error 24.925654768673265\n",
      "Final MSE: 24.916533644470185\n",
      "Iter: 0, weights: [ 2.82468863  1.40438444 -0.22668714  3.35496184], error 3289.174558011064\n",
      "Iter: 500, weights: [44.2189806  16.01501017  7.88350855 13.7191799 ], error 26.657499519038964\n",
      "Iter: 1000, weights: [44.19469331 18.42874091  5.61263369 13.92657565], error 25.753730254797926\n",
      "Iter: 1500, weights: [44.18905109 19.80998019  3.93704697 14.37703834], error 25.35195941347124\n",
      "Iter: 2000, weights: [44.20176049 20.62904689  2.68479678 14.84937197], error 25.150797601920868\n",
      "Iter: 2500, weights: [44.21970887 21.13691442  1.74701019 15.27012451], error 25.043083084217326\n",
      "Iter: 3000, weights: [44.23732923 21.46565922  1.04380463 15.61871457], error 24.983429326446387\n",
      "Iter: 3500, weights: [44.25260479 21.68670695  0.51604985 15.89664091], error 24.949841257317715\n",
      "Iter: 4000, weights: [44.26508597 21.8400504   0.11974812 16.11337467], error 24.930760208876944\n",
      "Iter: 4500, weights: [44.27495919 21.9490165  -0.17795246 16.28013882], error 24.919855039922783\n",
      "Final MSE: 24.9135888769651\n",
      "Iter: 0, weights: [ 6.92169569  3.97511249 -0.6162734   2.82803499], error 3220.798918579059\n",
      "Iter: 500, weights: [44.1771371  19.02808037  5.16898414 13.89617002], error 25.611197310704757\n",
      "Iter: 1000, weights: [44.20459962 20.83242017  2.42070044 14.92825783], error 25.116213922581025\n",
      "Iter: 1500, weights: [44.24323846 21.55703154  0.8739085  15.69407754], error 24.971613177148043\n",
      "Iter: 2000, weights: [4.42707307e+01 2.18954322e+01 1.66935916e-04 1.61717164e+01], error 24.92605735444834\n",
      "Iter: 2500, weights: [44.28766041 22.06966312 -0.49415287 16.45287959], error 24.911492227611667\n",
      "Iter: 3000, weights: [44.29757834 22.16412517 -0.7740007  16.61470574], error 24.90682298011063\n",
      "Iter: 3500, weights: [44.30327557 22.21660643 -0.93247527 16.70698855], error 24.905325528750218\n",
      "Iter: 4000, weights: [44.30652181 22.24608457 -1.0222285  16.75940924], error 24.904845331708067\n",
      "Iter: 4500, weights: [44.30836518 22.26272127 -1.07306355 16.78913732], error 24.90469139093064\n",
      "Final MSE: 24.90464206883214\n",
      "Iter: 0, weights: [4.98661476 2.24858607 3.2247406  3.89360809], error 3293.4626902684563\n",
      "Iter: 500, weights: [44.1520329  18.11808246  6.69380768 13.26689466], error 26.008202065854334\n",
      "Iter: 1000, weights: [44.17872637 20.44032283  3.29548084 14.48517445], error 25.2338233082697\n",
      "Iter: 1500, weights: [44.22458985 21.35577602  1.38860256 15.41519927], error 25.010288315116686\n",
      "Iter: 2000, weights: [44.2579612  21.77718561  0.31438925 15.99901903], error 24.93949955320935\n",
      "Iter: 2500, weights: [44.27861752 21.99213404 -0.29177053 16.34297107], error 24.916471385913887\n",
      "Iter: 3000, weights: [44.29072343 22.10798749 -0.6340622  16.54070706], error 24.90883174132214\n",
      "Iter: 3500, weights: [44.29766832 22.17209334 -0.82741007 16.65324915], error 24.906227032723734\n",
      "Iter: 4000, weights: [44.30161752 22.20798646 -0.9366395  16.71703335], error 24.90530153580817\n",
      "Iter: 4500, weights: [44.30385493 22.22818702 -0.99835077 16.75311898], error 24.904952944905943\n",
      "Final MSE: 24.904811629912743\n",
      "Iter: 0, weights: [11.05927403  4.22809347  5.65252696  5.04331965], error 3287.6000017726246\n",
      "Iter: 500, weights: [44.17189447 20.42356011  3.46817282 14.35766329], error 25.259423255475713\n",
      "Iter: 1000, weights: [44.25888467 21.78240709  0.3346743  15.97835427], error 24.940573408365847\n",
      "Iter: 1500, weights: [44.29370932 22.12898786 -0.66702387 16.55222702], error 24.908311283579067\n",
      "Iter: 2000, weights: [44.30527955 22.23490257 -0.98800826 16.73938649], error 24.90499789981049\n",
      "Iter: 2500, weights: [44.30901275 22.26855614 -1.09090952 16.79957709], error 24.90465768251607\n",
      "Iter: 3000, weights: [44.31021104 22.27932811 -1.12390027 16.81888569], error 24.904622827736393\n",
      "Iter: 3500, weights: [44.31059531 22.28278069 -1.13447745 16.82507689], error 24.904619282355046\n",
      "Iter: 4000, weights: [44.31071852 22.28388757 -1.13786861 16.82706189], error 24.904618929909397\n",
      "Iter: 4500, weights: [44.31075802 22.28424244 -1.13895586 16.82769831], error 24.90461889752503\n",
      "Final MSE: 24.904618895428648\n",
      "Iter: 0, weights: [10.6584467   3.35025603  3.35004214  3.99890434], error 3620.400739423686\n",
      "Iter: 500, weights: [44.18077507 20.50382262  3.18135859 14.53529993], error 25.217407848013323\n",
      "Iter: 1000, weights: [44.25917952 21.79090801  0.27730016 16.0197021 ], error 24.93781393989572\n",
      "Iter: 1500, weights: [44.29115539 22.11203871 -0.64617002 16.5477313 ], error 24.90864042366638\n",
      "Iter: 2000, weights: [44.3017607  22.20928318 -0.94059371 16.71934408], error 24.905276457324824\n",
      "Iter: 2500, weights: [44.30516741 22.24000288 -1.0345075  16.77427411], error 24.904807341634374\n",
      "Iter: 3000, weights: [44.30625554 22.24978518 -1.06446624 16.79180797], error 24.904719145325664\n",
      "Iter: 3500, weights: [44.30660275 22.2529048  -1.07402331 16.79740205], error 24.904697263398333\n",
      "Iter: 4000, weights: [44.30671351 22.25389992 -1.0770721  16.79918664], error 24.904690919226855\n",
      "Iter: 4500, weights: [44.30674885 22.25421737 -1.07804469 16.79975595], error 24.90468896013784\n",
      "Final MSE: 24.904688341761194\n",
      "Iter: 0, weights: [57.83933801 18.48880853 22.79030538 24.25232015], error 3642.2803232656215\n",
      "Iter: 500, weights: [44.3090962  22.2693057  -1.09320616 16.80092145], error 24.904654741387798\n",
      "Iter: 1000, weights: [44.31077111 22.28436008 -1.13931625 16.82790927], error 24.90461889542791\n",
      "Iter: 1500, weights: [44.31077664 22.28440975 -1.13946844 16.82799835], error 24.904618895834044\n",
      "Iter: 2000, weights: [44.31077666 22.28440991 -1.13946894 16.82799864], error 24.904618895836713\n",
      "Iter: 2500, weights: [44.31077666 22.28440991 -1.13946894 16.82799864], error 24.904618895836713\n",
      "Iter: 3000, weights: [44.31077666 22.28440991 -1.13946894 16.82799864], error 24.904618895836723\n",
      "Iter: 3500, weights: [44.31077666 22.28440991 -1.13946894 16.82799864], error 24.904618895836723\n",
      "Iter: 4000, weights: [44.31077666 22.28440991 -1.13946894 16.82799864], error 24.904618895836723\n",
      "Iter: 4500, weights: [44.31077666 22.28440991 -1.13946894 16.82799864], error 24.904618895836727\n",
      "Final MSE: 24.904618895836727\n",
      "Iter: 0, weights: [56.43456116 20.76226692 22.21312005 24.13039961], error 3405.8294574422844\n",
      "Iter: 500, weights: [44.30523033 22.24056995 -1.03624176 16.77528862], error 24.904802747697442\n",
      "Iter: 1000, weights: [44.30676046 22.2543217  -1.07836431 16.79994303], error 24.904688325668037\n",
      "Iter: 1500, weights: [44.30676539 22.25436594 -1.07849986 16.80002238], error 24.904688054056273\n",
      "Iter: 2000, weights: [44.3067654  22.25436608 -1.0785003  16.80002263], error 24.904688053183214\n",
      "Iter: 2500, weights: [44.3067654  22.25436608 -1.0785003  16.80002263], error 24.904688053180422\n",
      "Iter: 3000, weights: [44.3067654  22.25436608 -1.0785003  16.80002263], error 24.90468805318043\n",
      "Iter: 3500, weights: [44.3067654  22.25436608 -1.0785003  16.80002263], error 24.90468805318043\n"
     ]
    },
    {
     "name": "stdout",
     "output_type": "stream",
     "text": [
      "Iter: 4000, weights: [44.3067654  22.25436608 -1.0785003  16.80002263], error 24.90468805318043\n",
      "Iter: 4500, weights: [44.3067654  22.25436608 -1.0785003  16.80002263], error 24.90468805318043\n",
      "Final MSE: 24.90468805318043\n",
      "Iter: 0, weights: [111.9474769   38.81665401  43.05945314  47.92279442], error 3213.0551292657274\n",
      "Iter: 500, weights: [1.27598262e+132 4.68464844e+131 5.36980122e+131 5.76949223e+131], error 1.049437627360937e+264\n",
      "Iter: 1000, weights: [2.32103514e+262 8.52145904e+261 9.76776416e+261 1.04948092e+262], error inf\n",
      "Iter: 1500, weights: [nan nan nan nan], error nan\n",
      "Iter: 2000, weights: [nan nan nan nan], error nan\n",
      "Iter: 2500, weights: [nan nan nan nan], error nan\n",
      "Iter: 3000, weights: [nan nan nan nan], error nan\n",
      "Iter: 3500, weights: [nan nan nan nan], error nan\n",
      "Iter: 4000, weights: [nan nan nan nan], error nan\n",
      "Iter: 4500, weights: [nan nan nan nan], error nan\n",
      "Final MSE: nan\n",
      "Iter: 0, weights: [113.35411675  37.38849381  45.68116887  48.97644026], error 3366.182214542177\n",
      "Iter: 500, weights: [1.34186647e+132 4.92653470e+131 5.64706452e+131 6.06739310e+131], error 1.1604810117124358e+264\n",
      "Iter: 1000, weights: [2.50879275e+262 9.21079322e+261 1.05579168e+262 1.13437754e+262], error inf\n",
      "Iter: 1500, weights: [nan nan nan nan], error nan\n",
      "Iter: 2000, weights: [nan nan nan nan], error nan\n",
      "Iter: 2500, weights: [nan nan nan nan], error nan\n",
      "Iter: 3000, weights: [nan nan nan nan], error nan\n",
      "Iter: 3500, weights: [nan nan nan nan], error nan\n",
      "Iter: 4000, weights: [nan nan nan nan], error nan\n",
      "Iter: 4500, weights: [nan nan nan nan], error nan\n",
      "Final MSE: nan\n"
     ]
    }
   ],
   "source": [
    "# сделаем исследование для таких значений eta:\n",
    "etas = [0.01, 0.025, 0.05, 0.1, 0.5, 1.0]\n",
    "\n",
    "err_g_d__reg_l1 = []\n",
    "err_g_d__reg_l2 = []\n",
    "W_g_d__reg_l1 = []\n",
    "W_g_d__reg_l2 = []\n",
    "\n",
    "for eta in etas:\n",
    "    W, err = gradient_descent_reg_l1(X_norm, y, iterations=5000, eta=eta, reg=1e-4)\n",
    "    err_g_d__reg_l1.append(err)\n",
    "    W_g_d__reg_l1.append(W)\n",
    "    W, err = gradient_descent_reg_l2(X_norm, y, iterations=5000, eta=eta, reg=1e-4)\n",
    "    err_g_d__reg_l2.append(err)\n",
    "    W_g_d__reg_l2.append(W)\n",
    "    "
   ]
  },
  {
   "cell_type": "markdown",
   "id": "94f321fe",
   "metadata": {},
   "source": [
    "Видно, что при превышении eta значения 1 алгоритм идет в разнос"
   ]
  },
  {
   "cell_type": "markdown",
   "id": "cd77a3a7",
   "metadata": {},
   "source": [
    "Графики"
   ]
  },
  {
   "cell_type": "code",
   "execution_count": 37,
   "id": "4d34d997",
   "metadata": {},
   "outputs": [
    {
     "data": {
      "image/png": "[encoded data removed]",
      "text/plain": [
       "<Figure size 720x432 with 1 Axes>"
      ]
     },
     "metadata": {
      "needs_background": "light"
     },
     "output_type": "display_data"
    }
   ],
   "source": [
    "# Визуализируем MSE от eta для разных типов регуляризации\n",
    "plt.figure(figsize = (10, 6))\n",
    "plt.plot(etas, err_g_d__reg_l1, label='err_g_d__reg_l2')\n",
    "plt.plot(etas, err_g_d__reg_l2, label='err_g_d__reg_l2')\n",
    "plt.title('MSE')\n",
    "plt.xlabel('eta')\n",
    "plt.ylabel('MSE')\n",
    "plt.legend();"
   ]
  },
  {
   "cell_type": "markdown",
   "id": "5ee4c02f",
   "metadata": {},
   "source": [
    "__Честно говоря я ожидал большей разницы в результатах, при применении L1 и L2__"
   ]
  },
  {
   "cell_type": "markdown",
   "id": "e8ab5123",
   "metadata": {},
   "source": [
    "Теперь график с весами в зависимости от eta."
   ]
  },
  {
   "cell_type": "code",
   "execution_count": 38,
   "id": "041f788b",
   "metadata": {},
   "outputs": [
    {
     "data": {
      "image/png": "[encoded data removed]",
      "text/plain": [
       "<Figure size 720x432 with 1 Axes>"
      ]
     },
     "metadata": {
      "needs_background": "light"
     },
     "output_type": "display_data"
    }
   ],
   "source": [
    "# Визуализируем изменение весов в зависимости от eta для разных типов регуляризации\n",
    "plt.figure(figsize = (10, 6))\n",
    "plt.plot(etas, W_g_d__reg_l1, label='W_L1')\n",
    "plt.plot(etas, W_g_d__reg_l2, label='W_L2')\n",
    "plt.title('W')\n",
    "plt.xlabel('eta')\n",
    "plt.ylabel('W')\n",
    "plt.legend();"
   ]
  },
  {
   "cell_type": "markdown",
   "id": "0815f8b9",
   "metadata": {},
   "source": [
    "__Могу только повторить. Честно говоря я ожидал большей разницы от работы L1 и L2__"
   ]
  },
  {
   "cell_type": "markdown",
   "id": "187bf7d6",
   "metadata": {},
   "source": [
    "У нас вектор весов состоит из четырех элементов. Может из за масштаба разница не очень заметна. Возьмем для примера третий вес и посмотрим поближе его судьбу."
   ]
  },
  {
   "cell_type": "code",
   "execution_count": 39,
   "id": "24f0ce38",
   "metadata": {},
   "outputs": [
    {
     "data": {
      "text/plain": [
       "array([ 3.11588201, -0.28893916, -1.1018137 , -1.13930406, -1.13946894,\n",
       "               nan])"
      ]
     },
     "execution_count": 39,
     "metadata": {},
     "output_type": "execute_result"
    }
   ],
   "source": [
    "W_g_d__reg_l1 = np.array(W_g_d__reg_l1)\n",
    "W_g_d__reg_l1[:, 2]"
   ]
  },
  {
   "cell_type": "code",
   "execution_count": 40,
   "id": "de4894a1",
   "metadata": {},
   "outputs": [
    {
     "data": {
      "text/plain": [
       "array([ 3.25797806, -0.40125151, -1.03316484, -1.07835462, -1.0785003 ,\n",
       "               nan])"
      ]
     },
     "execution_count": 40,
     "metadata": {},
     "output_type": "execute_result"
    }
   ],
   "source": [
    "W_g_d__reg_l2 = np.array(W_g_d__reg_l2)\n",
    "W_g_d__reg_l2[:, 2]"
   ]
  },
  {
   "cell_type": "code",
   "execution_count": 41,
   "id": "8db51cb0",
   "metadata": {},
   "outputs": [
    {
     "data": {
      "image/png": "[encoded data removed]",
      "text/plain": [
       "<Figure size 720x432 with 1 Axes>"
      ]
     },
     "metadata": {
      "needs_background": "light"
     },
     "output_type": "display_data"
    }
   ],
   "source": [
    "# Визуализируем изменение третьего веса в зависимости от eta для разных типов регуляризации\n",
    "plt.figure(figsize = (10, 6))\n",
    "plt.plot(etas, W_g_d__reg_l1[:, 2], color='g', label='W_g_d__reg_l1')\n",
    "plt.plot(etas, W_g_d__reg_l2[:, 2], color='y', label='W_g_d__reg_l2')\n",
    "plt.title('W_3')\n",
    "plt.xlabel('eta')\n",
    "plt.ylabel('W_3')\n",
    "plt.scatter(etas[3], w_th[2], c='r', label='теоретический вес')\n",
    "plt.legend();"
   ]
  },
  {
   "cell_type": "markdown",
   "id": "8401c3c7",
   "metadata": {},
   "source": [
    "Значимой разницы обнаружить не удалось. __То есть в этом примере веса ведут себя достаточно одинаково при L1 и L2 регуляризации__"
   ]
  },
  {
   "cell_type": "code",
   "execution_count": null,
   "id": "86d7a8ba",
   "metadata": {},
   "outputs": [],
   "source": []
  },
  {
   "cell_type": "code",
   "execution_count": null,
   "id": "18ba53c4",
   "metadata": {},
   "outputs": [],
   "source": []
  },
  {
   "cell_type": "code",
   "execution_count": null,
   "id": "f9ea70ff",
   "metadata": {},
   "outputs": [],
   "source": []
  },
  {
   "cell_type": "markdown",
   "id": "6eb5db5e",
   "metadata": {},
   "source": [
    "### Задания из методички"
   ]
  },
  {
   "cell_type": "markdown",
   "id": "0b10a825",
   "metadata": {},
   "source": [
    "1. Напишите функцию наподобие gradient_descent_reg_l2, но для применения L1-регуляризации."
   ]
  },
  {
   "cell_type": "markdown",
   "id": "b771f2e3",
   "metadata": {},
   "source": [
    "__Задача аналогична решенной выше под номером 2__"
   ]
  },
  {
   "cell_type": "code",
   "execution_count": null,
   "id": "ce383168",
   "metadata": {},
   "outputs": [],
   "source": []
  },
  {
   "cell_type": "markdown",
   "id": "913d83c7",
   "metadata": {},
   "source": [
    "2. *Можно ли к одному и тому же признаку применить сразу и нормализацию, и стандартизацию?"
   ]
  },
  {
   "cell_type": "markdown",
   "id": "0620c582",
   "metadata": {},
   "source": [
    "__На мой взгляд одновременно не возможно. Видимо можно сделать сначала нормализацию, а затем стандартизацию. Но, если я правильно понимаю математику процесса, то результат будет такой словно нормализации и не было.__"
   ]
  },
  {
   "cell_type": "code",
   "execution_count": null,
   "id": "f9d516ce",
   "metadata": {},
   "outputs": [],
   "source": []
  },
  {
   "cell_type": "markdown",
   "id": "e4030613",
   "metadata": {},
   "source": [
    "3. *Сгенерируйте датасет при помощи <code>sklearn.datasets.make_regression</code> и обучите линейную модель при помощи градиентного и стохастического градиентного спуска. Нанесите среднеквадратичную ошибку для обоих методов на один график, сделайте выводы о разнице скорости сходимости каждого из методов."
   ]
  },
  {
   "cell_type": "markdown",
   "id": "524bc899",
   "metadata": {},
   "source": [
    "__Задача аналогична решенной выше под номером 1__"
   ]
  },
  {
   "cell_type": "code",
   "execution_count": null,
   "id": "1efd842a",
   "metadata": {},
   "outputs": [],
   "source": []
  }
 ],
 "metadata": {
  "kernelspec": {
   "display_name": "Python 3 (ipykernel)",
   "language": "python",
   "name": "python3"
  },
  "language_info": {
   "codemirror_mode": {
    "name": "ipython",
    "version": 3
   },
   "file_extension": ".py",
   "mimetype": "text/x-python",
   "name": "python",
   "nbconvert_exporter": "python",
   "pygments_lexer": "ipython3",
   "version": "3.9.7"
  }
 },
 "nbformat": 4,
 "nbformat_minor": 5
}
